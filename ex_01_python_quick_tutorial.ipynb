{
 "cells": [
  {
   "cell_type": "code",
   "execution_count": 1,
   "id": "cf4bd70a-86d3-410f-be4c-21d75816c53a",
   "metadata": {},
   "outputs": [
    {
     "name": "stdout",
     "output_type": "stream",
     "text": [
      "hello world!\n"
     ]
    }
   ],
   "source": [
    "print(\"hello world!\")"
   ]
  },
  {
   "cell_type": "code",
   "execution_count": 5,
   "id": "e3a5552e-0b5e-4130-97c8-12ff57ffb08a",
   "metadata": {},
   "outputs": [
    {
     "name": "stdout",
     "output_type": "stream",
     "text": [
      "857857857857857857857857\n",
      "I am happy.\n",
      "幸运幸运幸运幸运幸运\n"
     ]
    }
   ],
   "source": [
    "print(\"857\"*8)\n",
    "print(\"I am happy.\")\n",
    "print(\"幸运\"*5)"
   ]
  },
  {
   "cell_type": "code",
   "execution_count": 13,
   "id": "53e600bf-e912-442f-a79f-7af01e8df37c",
   "metadata": {},
   "outputs": [
    {
     "name": "stdout",
     "output_type": "stream",
     "text": [
      "12\n",
      "-6\n",
      "27\n",
      "3.0\n",
      "1\n",
      "2\n",
      "19683\n"
     ]
    }
   ],
   "source": [
    "print(3+9)\n",
    "print(3-9)\n",
    "print(3*9)\n",
    "print(9/3)\n",
    "print(6//4)#整除\n",
    "print(6%4)#余数\n",
    "print(3**9)#幂"
   ]
  },
  {
   "cell_type": "code",
   "execution_count": 17,
   "id": "afb5d8dd-d016-4499-9c3f-b3b84b3103df",
   "metadata": {},
   "outputs": [
    {
     "name": "stdout",
     "output_type": "stream",
     "text": [
      "4\n"
     ]
    }
   ],
   "source": [
    "print(5&6)"
   ]
  },
  {
   "cell_type": "code",
   "execution_count": 14,
   "id": "4650b64b-182b-45e2-9faf-baea5bace27d",
   "metadata": {},
   "outputs": [
    {
     "name": "stdout",
     "output_type": "stream",
     "text": [
      "True\n",
      "False\n",
      "True\n",
      "True\n",
      "True\n",
      "False\n"
     ]
    }
   ],
   "source": [
    "print(2+3==1+4)\n",
    "print(6+4!=7+3)\n",
    "print(2<=9)\n",
    "print(9>=6)\n",
    "print(1+9 == 8+2)\n",
    "print(9 == 5)"
   ]
  },
  {
   "cell_type": "code",
   "execution_count": 8,
   "id": "dad97cff-63ad-406a-b428-4448d1f30af0",
   "metadata": {},
   "outputs": [
    {
     "name": "stdout",
     "output_type": "stream",
     "text": [
      "121\n"
     ]
    }
   ],
   "source": [
    "func=x**3+1-x#func为函数名\n",
    "x=5\n",
    "print(func)"
   ]
  },
  {
   "cell_type": "code",
   "execution_count": 16,
   "id": "eefa06a2-7acf-41f7-aa96-2147d9a028ad",
   "metadata": {},
   "outputs": [
    {
     "name": "stdout",
     "output_type": "stream",
     "text": [
      "monadic_equation= 13\n",
      "monadic_equation=13.00\n",
      "monadic_equation=13.00\n"
     ]
    }
   ],
   "source": [
    "x=6\n",
    "monadic_equation=2*x+1\n",
    "print(\"monadic_equation=\",monadic_equation)\n",
    "print(\"monadic_equation=%.2f\"%monadic_equation)#注意%。2f.引号后也有%  #%字符串格式化方法\n",
    "print(\"monadic_equation={:.2f}\".format(monadic_equation)) #format()字符串格式化方法"
   ]
  },
  {
   "cell_type": "code",
   "execution_count": 21,
   "id": "d8742d95-730a-4c3a-a253-7711063d798b",
   "metadata": {},
   "outputs": [
    {
     "name": "stdout",
     "output_type": "stream",
     "text": [
      "The longitude of the Zheng'zhou coordinate is 113.67, and the latitude is 34.76.\n"
     ]
    }
   ],
   "source": [
    "city_name=\"Zheng'zhou\"\n",
    "coordinate_longitude=113.665412\n",
    "coordiante_latitude=34.757975\n",
    "print(\"The longitude of the Zheng'zhou coordinate is {lon:.2f}, and the latitude is {lat:.2f}.\".format(lon=coordinate_longitude,lat=coordiante_latitude))"
   ]
  },
  {
   "cell_type": "code",
   "execution_count": 4,
   "id": "395c6c0b-c729-4e49-90fe-de541dd2eb8e",
   "metadata": {},
   "outputs": [
    {
     "name": "stdout",
     "output_type": "stream",
     "text": [
      "func_2=17.00\n"
     ]
    }
   ],
   "source": [
    "x,y,a=9,8,7\n",
    "func_2=2*x-y+a\n",
    "print(\"func_2={:.2f}\".format(func_2))"
   ]
  },
  {
   "cell_type": "code",
   "execution_count": 6,
   "id": "10a2c0bf-03dd-4203-b926-81bd1315bbc6",
   "metadata": {},
   "outputs": [
    {
     "name": "stdout",
     "output_type": "stream",
     "text": [
      "15\n"
     ]
    }
   ],
   "source": [
    "x,y,z=5,6,7\n",
    "func=2*(x+y)-z\n",
    "print(func)"
   ]
  },
  {
   "cell_type": "code",
   "execution_count": 17,
   "id": "2cceefee-aade-451c-b6c3-5b3f3cddcb7b",
   "metadata": {},
   "outputs": [
    {
     "name": "stdout",
     "output_type": "stream",
     "text": [
      "[3, 9, 15, 21]\n",
      "the list length=4\n",
      "Maximum value=21\n",
      "Minimum value=3\n"
     ]
    }
   ],
   "source": [
    "lst_n=list(range(3,27,6))\n",
    "print(lst_n)\n",
    "print(\"the list length={}\".format(len(lst_n)))\n",
    "print(\"Maximum value={}\".format(max(lst_n)))\n",
    "print(\"Minimum value={}\".format(min(lst_n)))"
   ]
  },
  {
   "cell_type": "code",
   "execution_count": 19,
   "id": "fefd0ec8-8d04-4e11-b77b-3ef5b443fcd6",
   "metadata": {},
   "outputs": [
    {
     "name": "stdout",
     "output_type": "stream",
     "text": [
      "['d', 'e', 'f', 'g', 'h', 'i', 'j', 'k', 'l', 'm', 'n', 'o', 'p', 'q', 'r', 's', 't', 'u', 'v', 'w']\n",
      "____________________________________________________________________________________________________\n",
      "[3:6]->['g', 'h', 'i']\n",
      "[-3:-1]->['u', 'v']\n",
      "[-3:]->['u', 'v', 'w']\n",
      "[:3]->['d', 'e', 'f']\n",
      "[:]->['d', 'e', 'f', 'g', 'h', 'i', 'j', 'k', 'l', 'm', 'n', 'o', 'p', 'q', 'r', 's', 't', 'u', 'v', 'w']\n"
     ]
    }
   ],
   "source": [
    "lst_s=list(map(chr,range(100,120)))\n",
    "print(lst_s)\n",
    "print(\"_\"*100)\n",
    "print(\"[3:6]->{}\".format(lst_s[3:6]))\n",
    "print(\"[-3:-1]->{}\".format(lst_s[-3:-1]))#包括最小的，不包括最大的\n",
    "print(\"[-3:]->{}\".format(lst_s[-3:]))#-1，-2，-3\n",
    "print(\"[:3]->{}\".format(lst_s[:3]))#0，1，2\n",
    "print(\"[:]->{}\".format(lst_s[:]))#全部"
   ]
  },
  {
   "cell_type": "code",
   "execution_count": 20,
   "id": "0a992088-e762-4400-9638-f356f7c938e5",
   "metadata": {
    "collapsed": true,
    "jupyter": {
     "outputs_hidden": true
    },
    "tags": []
   },
   "outputs": [
    {
     "name": "stdout",
     "output_type": "stream",
     "text": [
      "Help on class list in module builtins:\n",
      "\n",
      "class list(object)\n",
      " |  list(iterable=(), /)\n",
      " |  \n",
      " |  Built-in mutable sequence.\n",
      " |  \n",
      " |  If no argument is given, the constructor creates a new empty list.\n",
      " |  The argument must be an iterable if specified.\n",
      " |  \n",
      " |  Methods defined here:\n",
      " |  \n",
      " |  __add__(self, value, /)\n",
      " |      Return self+value.\n",
      " |  \n",
      " |  __contains__(self, key, /)\n",
      " |      Return key in self.\n",
      " |  \n",
      " |  __delitem__(self, key, /)\n",
      " |      Delete self[key].\n",
      " |  \n",
      " |  __eq__(self, value, /)\n",
      " |      Return self==value.\n",
      " |  \n",
      " |  __ge__(self, value, /)\n",
      " |      Return self>=value.\n",
      " |  \n",
      " |  __getattribute__(self, name, /)\n",
      " |      Return getattr(self, name).\n",
      " |  \n",
      " |  __getitem__(...)\n",
      " |      x.__getitem__(y) <==> x[y]\n",
      " |  \n",
      " |  __gt__(self, value, /)\n",
      " |      Return self>value.\n",
      " |  \n",
      " |  __iadd__(self, value, /)\n",
      " |      Implement self+=value.\n",
      " |  \n",
      " |  __imul__(self, value, /)\n",
      " |      Implement self*=value.\n",
      " |  \n",
      " |  __init__(self, /, *args, **kwargs)\n",
      " |      Initialize self.  See help(type(self)) for accurate signature.\n",
      " |  \n",
      " |  __iter__(self, /)\n",
      " |      Implement iter(self).\n",
      " |  \n",
      " |  __le__(self, value, /)\n",
      " |      Return self<=value.\n",
      " |  \n",
      " |  __len__(self, /)\n",
      " |      Return len(self).\n",
      " |  \n",
      " |  __lt__(self, value, /)\n",
      " |      Return self<value.\n",
      " |  \n",
      " |  __mul__(self, value, /)\n",
      " |      Return self*value.\n",
      " |  \n",
      " |  __ne__(self, value, /)\n",
      " |      Return self!=value.\n",
      " |  \n",
      " |  __repr__(self, /)\n",
      " |      Return repr(self).\n",
      " |  \n",
      " |  __reversed__(self, /)\n",
      " |      Return a reverse iterator over the list.\n",
      " |  \n",
      " |  __rmul__(self, value, /)\n",
      " |      Return value*self.\n",
      " |  \n",
      " |  __setitem__(self, key, value, /)\n",
      " |      Set self[key] to value.\n",
      " |  \n",
      " |  __sizeof__(self, /)\n",
      " |      Return the size of the list in memory, in bytes.\n",
      " |  \n",
      " |  append(self, object, /)\n",
      " |      Append object to the end of the list.\n",
      " |  \n",
      " |  clear(self, /)\n",
      " |      Remove all items from list.\n",
      " |  \n",
      " |  copy(self, /)\n",
      " |      Return a shallow copy of the list.\n",
      " |  \n",
      " |  count(self, value, /)\n",
      " |      Return number of occurrences of value.\n",
      " |  \n",
      " |  extend(self, iterable, /)\n",
      " |      Extend list by appending elements from the iterable.\n",
      " |  \n",
      " |  index(self, value, start=0, stop=9223372036854775807, /)\n",
      " |      Return first index of value.\n",
      " |      \n",
      " |      Raises ValueError if the value is not present.\n",
      " |  \n",
      " |  insert(self, index, object, /)\n",
      " |      Insert object before index.\n",
      " |  \n",
      " |  pop(self, index=-1, /)\n",
      " |      Remove and return item at index (default last).\n",
      " |      \n",
      " |      Raises IndexError if list is empty or index is out of range.\n",
      " |  \n",
      " |  remove(self, value, /)\n",
      " |      Remove first occurrence of value.\n",
      " |      \n",
      " |      Raises ValueError if the value is not present.\n",
      " |  \n",
      " |  reverse(self, /)\n",
      " |      Reverse *IN PLACE*.\n",
      " |  \n",
      " |  sort(self, /, *, key=None, reverse=False)\n",
      " |      Sort the list in ascending order and return None.\n",
      " |      \n",
      " |      The sort is in-place (i.e. the list itself is modified) and stable (i.e. the\n",
      " |      order of two equal elements is maintained).\n",
      " |      \n",
      " |      If a key function is given, apply it once to each list item and sort them,\n",
      " |      ascending or descending, according to their function values.\n",
      " |      \n",
      " |      The reverse flag can be set to sort in descending order.\n",
      " |  \n",
      " |  ----------------------------------------------------------------------\n",
      " |  Static methods defined here:\n",
      " |  \n",
      " |  __new__(*args, **kwargs) from builtins.type\n",
      " |      Create and return a new object.  See help(type) for accurate signature.\n",
      " |  \n",
      " |  ----------------------------------------------------------------------\n",
      " |  Data and other attributes defined here:\n",
      " |  \n",
      " |  __hash__ = None\n",
      "\n"
     ]
    }
   ],
   "source": [
    "help(list)"
   ]
  },
  {
   "cell_type": "code",
   "execution_count": 35,
   "id": "bf031e2e-622e-43d1-a455-ab5b4c62a30e",
   "metadata": {},
   "outputs": [
    {
     "name": "stdout",
     "output_type": "stream",
     "text": [
      "['d', 'e', 'f', 'g', 'h', 'i', 'j', 'k', 'l', 'm', 'n', 'o', 'p', 'q', 'r', 's', 't', 'u', 'v', 'w']\n",
      "________________________________________________________________________________________________________________________\n",
      "[:15:5]->['d', 'i', 'n']\n",
      "[::10]->['d', 'n']\n",
      "[10::-2]->['n', 'l', 'j', 'h', 'f', 'd']\n",
      "[20:3:-2]->['w', 'u', 's', 'q', 'o', 'm', 'k', 'i']\n",
      "[7::-3]->['k', 'h', 'e']\n",
      "[:10:-2]->['w', 'u', 's', 'q', 'o']\n"
     ]
    }
   ],
   "source": [
    "print(lst_s)\n",
    "print(\"_\"*120)\n",
    "print(\"[:15:5]->{}\".format(lst_s[:15:5]))\n",
    "print(\"[::10]->{}\".format(lst_s[::10]))\n",
    "print(\"[10::-2]->{}\".format(lst_s[10::-2]))\n",
    "print(\"[20:3:-2]->{}\".format(lst_s[20:3:-2]))\n",
    "print(\"[7::-3]->{}\".format(lst_s[7::-3]))\n",
    "print(\"[:10:-2]->{}\".format(lst_s[:10:-2]))"
   ]
  },
  {
   "cell_type": "code",
   "execution_count": 43,
   "id": "1f891918-8985-4f5c-97f5-40c58c69954c",
   "metadata": {},
   "outputs": [
    {
     "name": "stdout",
     "output_type": "stream",
     "text": [
      "[1314, 'e', 'f', 'g', 'h', 'i', 'j', 'k', 'l', 'm', 'n', 'o', 'p', 'q', 'r', 's', 't', 'u', 'v', 'w']\n",
      "____________________________________________________________________________________________________________________________________________\n",
      "lst_s[0]=1314->[1314, 'e', 'f', 'g', 'h', 'i', 'j', 'k', 'l', 'm', 'n', 'o', 'p', 'q', 'r', 's', 't', 'u', 'v', 'w']\n",
      "lst_s+[None]*5->[1314, 'e', 'f', 'g', 'h', 'i', 'j', 'k', 'l', 'm', 'n', 'o', 'p', 'q', 'r', 's', 't', 'u', 'v', 'w', None, None, None, None, None]\n",
      "lst_none[20]=2021->[1314, 'e', 'f', 'g', 'h', 'i', 'j', 'k', 'l', 'm', 'n', 'o', 'p', 'q', 'r', 's', 't', 'u', 'v', 'w', 2021, None, None, None, None]\n",
      "lst_none[-4:-1]=list(range(110,130,6))->[1314, 'e', 'f', 'g', 'h', 'i', 'j', 'k', 'l', 'm', 'n', 'o', 'p', 'q', 'r', 's', 't', 'u', 'v', 'w', 2021, 110, 116, 122, 128, None]\n",
      "lst_none[10:10]=[7,6,5,4]->[1314, 'e', 'f', 'g', 'h', 'i', 'j', 'k', 'l', 'm', 7, 6, 5, 4, 'n', 'o', 'p', 'q', 'r', 's', 't', 'u', 'v', 'w', 2021, 110, 116, 122, 128, None]\n",
      "del lst_none[-1:]->[1314, 'e', 'f', 'g', 'h', 'i', 'j', 'k', 'l', 'm', 7, 6, 5, 4, 'n', 'o', 'p', 'q', 'r', 's', 't', 'u', 'v', 'w', 2021, 110, 116, 122, 128]\n"
     ]
    }
   ],
   "source": [
    "print(lst_s)\n",
    "print(\"_\"*140)\n",
    "lst_s[0]=1314 #元素赋值\n",
    "print(\"lst_s[0]=1314->{}\".format(lst_s))\n",
    "lst_none=lst_s+[None]*5#增加字符\n",
    "print(\"lst_s+[None]*5->{}\".format(lst_none))\n",
    "lst_none[20]=2021#元素赋值\n",
    "print(\"lst_none[20]=2021->{}\".format(lst_none))\n",
    "lst_none[-4:-1]=list(range(110,130,6)) #分片赋值\n",
    "print(\"lst_none[-4:-1]=list(range(110,130,6))->{}\".format(lst_none))\n",
    "lst_none[10:10]=[7,6,5,4]#增加元素\n",
    "print(\"lst_none[10:10]=[7,6,5,4]->{}\".format(lst_none))\n",
    "del lst_none[-1:] #删除元素\n",
    "print(\"del lst_none[-1:]->{}\".format(lst_none))"
   ]
  },
  {
   "cell_type": "code",
   "execution_count": 44,
   "id": "3f36d243-028d-43d4-a25f-3fc58c844352",
   "metadata": {
    "collapsed": true,
    "jupyter": {
     "outputs_hidden": true
    },
    "tags": []
   },
   "outputs": [
    {
     "name": "stdout",
     "output_type": "stream",
     "text": [
      "Help on class map in module builtins:\n",
      "\n",
      "class map(object)\n",
      " |  map(func, *iterables) --> map object\n",
      " |  \n",
      " |  Make an iterator that computes the function using arguments from\n",
      " |  each of the iterables.  Stops when the shortest iterable is exhausted.\n",
      " |  \n",
      " |  Methods defined here:\n",
      " |  \n",
      " |  __getattribute__(self, name, /)\n",
      " |      Return getattr(self, name).\n",
      " |  \n",
      " |  __iter__(self, /)\n",
      " |      Implement iter(self).\n",
      " |  \n",
      " |  __next__(self, /)\n",
      " |      Implement next(self).\n",
      " |  \n",
      " |  __reduce__(...)\n",
      " |      Return state information for pickling.\n",
      " |  \n",
      " |  ----------------------------------------------------------------------\n",
      " |  Static methods defined here:\n",
      " |  \n",
      " |  __new__(*args, **kwargs) from builtins.type\n",
      " |      Create and return a new object.  See help(type) for accurate signature.\n",
      "\n"
     ]
    }
   ],
   "source": [
    "help(map)"
   ]
  },
  {
   "cell_type": "code",
   "execution_count": 45,
   "id": "a94eb47c-5a5a-417d-b60f-bb2fdaaaa1b4",
   "metadata": {},
   "outputs": [
    {
     "name": "stdout",
     "output_type": "stream",
     "text": [
      "['a', 'b', 'c', 'd', 'e', 'f', 'g', 'h']\n",
      "____________________________________________________________________________________________________\n",
      "lst_s_2.append(17)->['a', 'b', 'c', 'd', 'e', 'f', 'g', 'h', 17]\n"
     ]
    }
   ],
   "source": [
    "lst_s_2=list(map(chr,range(97,105)))\n",
    "print(lst_s_2)\n",
    "print(\"_\"*100)\n",
    "lst_s_2.append(17)\n",
    "print(\"lst_s_2.append(17)->{}\".format(lst_s_2))"
   ]
  },
  {
   "cell_type": "code",
   "execution_count": 50,
   "id": "c711c3f6-2ffd-4899-97f1-d59b542537bd",
   "metadata": {},
   "outputs": [
    {
     "name": "stdout",
     "output_type": "stream",
     "text": [
      "lst_s_2.append(list(range(60,80,5)))->['a', 'b', 'c', 'd', 'e', 'f', 'g', 'h', 17, [50, 55, 60, 65, 70, 75], [60, 65, 70, 75], [60, 65, 70, 75], [60, 65, 70, 75], [60, 65, 70, 75]]\n"
     ]
    }
   ],
   "source": [
    "lst_s_2.append(list(range(60,80,5)))\n",
    "print(\"lst_s_2.append(list(range(60,80,5)))->{}\".format(lst_s_2))"
   ]
  },
  {
   "cell_type": "code",
   "execution_count": 57,
   "id": "fe744e59-fb6a-4869-82a8-99220e3782a8",
   "metadata": {},
   "outputs": [
    {
     "name": "stdout",
     "output_type": "stream",
     "text": [
      "lst_s_2.extend(lst_spechars)->['a', 'b', 'c', 'd', 'e', 'f', 'g', 'h', 17, [50, 55, 60, 65, 70, 75], [60, 65, 70, 75], [60, 65, 70, 75], [60, 65, 70, 75], [60, 65, 70, 75], '*', '%', '*', '&', '*', '*', '%', '*', '&', '*', '*', '%', '*', '&', '*', '*', '%', '*', '&', '*', '*', '%', '*', '&', '*']\n",
      "____________________________________________________________________________________________________\n",
      "lst_s_2.count('*')=15\n",
      "lst_s_2.index('h')=7\n"
     ]
    }
   ],
   "source": [
    "lst_spechars=['*','%','*',\"&\",\"*\"]\n",
    "lst_s_2.extend(lst_spechars)\n",
    "print(\"lst_s_2.extend(lst_spechars)->{}\".format(lst_s_2))\n",
    "print(\"_\"*100)\n",
    "print(\"lst_s_2.count('*')={}\".format(lst_s_2.count('*')))\n",
    "print(\"lst_s_2.index('h')={}\".format(lst_s_2.index('h')))"
   ]
  },
  {
   "cell_type": "code",
   "execution_count": 61,
   "id": "011182d9-02a1-4a18-9756-8de8ec013193",
   "metadata": {},
   "outputs": [
    {
     "name": "stdout",
     "output_type": "stream",
     "text": [
      "lst_s_2.insert(10,[-1,-2,-100])->['a', 'b', 'c', 'd', 'e', 'f', 'g', [-1, -2, -100], [-1, -2, -100], [-1, -2, -100], [-1, -2, -100], [60, 65, 70, 75], [60, 65, 70, 75], [60, 65, 70, 75], [60, 65, 70, 75], '*', '*', '%', '*', '&', '*', '*', '%', '*', '&', '*', '*', '%', '*', '&', '*', '*', '%', '*', '&', '*']\n",
      "lst_s_2.pop(9)_popup->[-1, -2, -100]\n",
      "lst_s_2.pop(9)_retention->['a', 'b', 'c', 'd', 'e', 'f', 'g', [-1, -2, -100], [-1, -2, -100], [-1, -2, -100], [60, 65, 70, 75], [60, 65, 70, 75], [60, 65, 70, 75], [60, 65, 70, 75], '*', '*', '%', '*', '&', '*', '*', '%', '*', '&', '*', '*', '%', '*', '&', '*', '*', '%', '*', '&', '*']\n",
      "lst_s_2.remove('*')_retention->['a', 'b', 'c', 'd', 'e', 'f', 'g', [-1, -2, -100], [-1, -2, -100], [-1, -2, -100], [60, 65, 70, 75], [60, 65, 70, 75], [60, 65, 70, 75], [60, 65, 70, 75], '*', '%', '*', '&', '*', '*', '%', '*', '&', '*', '*', '%', '*', '&', '*', '*', '%', '*', '&', '*']\n",
      "lst_s_2.remove('%')_retention->['a', 'b', 'c', 'd', 'e', 'f', 'g', [-1, -2, -100], [-1, -2, -100], [-1, -2, -100], [60, 65, 70, 75], [60, 65, 70, 75], [60, 65, 70, 75], [60, 65, 70, 75], '*', '*', '&', '*', '*', '%', '*', '&', '*', '*', '%', '*', '&', '*', '*', '%', '*', '&', '*']\n",
      "lst_s_2.remove('&')_retention->['a', 'b', 'c', 'd', 'e', 'f', 'g', [-1, -2, -100], [-1, -2, -100], [-1, -2, -100], [60, 65, 70, 75], [60, 65, 70, 75], [60, 65, 70, 75], [60, 65, 70, 75], '*', '*', '*', '*', '%', '*', '&', '*', '*', '%', '*', '&', '*', '*', '%', '*', '&', '*']\n"
     ]
    }
   ],
   "source": [
    "lst_s_2.insert(10,[-1,-2,-100])\n",
    "print(\"lst_s_2.insert(10,[-1,-2,-100])->{}\".format(lst_s_2))\n",
    "print(\"lst_s_2.pop(9)_popup->{}\".format(lst_s_2.pop(7)))\n",
    "print(\"lst_s_2.pop(9)_retention->{}\".format(lst_s_2))\n",
    "lst_s_2.remove('*')\n",
    "print(\"lst_s_2.remove('*')_retention->{}\".format(lst_s_2))\n",
    "lst_s_2.remove('%')\n",
    "print(\"lst_s_2.remove('%')_retention->{}\".format(lst_s_2))\n",
    "lst_s_2.remove('&')\n",
    "print(\"lst_s_2.remove('&')_retention->{}\".format(lst_s_2))"
   ]
  },
  {
   "cell_type": "code",
   "execution_count": 63,
   "id": "627a15f2-b0e6-42e9-be5d-624986156b48",
   "metadata": {},
   "outputs": [
    {
     "name": "stdout",
     "output_type": "stream",
     "text": [
      "list_n_2.sort()->[9, 16, 64, 98, 583, 75000]\n"
     ]
    }
   ],
   "source": [
    "list_n_2=[9,75000,583,8**2,98,2*8]\n",
    "list_n_2.sort()\n",
    "print(\"list_n_2.sort()->{}\".format(list_n_2))"
   ]
  },
  {
   "cell_type": "code",
   "execution_count": 66,
   "id": "0bf94fae-55d0-4d7a-9d74-83f039e0c4d1",
   "metadata": {},
   "outputs": [
    {
     "name": "stdout",
     "output_type": "stream",
     "text": [
      "tuple_1=7,5,9,->(7, 5, 9)\n",
      "6*(85*2,)->(170, 170, 170, 170, 170, 170)\n",
      "tuple((7,5,9))->(7, 5, 9)\n",
      "tuple([6,8,5])->(6, 8, 5)\n"
     ]
    }
   ],
   "source": [
    "tuple_1=7,5,9,\n",
    "print(\"tuple_1=7,5,9,->{}\".format(tuple_1))\n",
    "print(\"6*(85*2,)->{}\".format(6*(85*2,)))\n",
    "print(\"tuple((7,5,9))->{}\".format(tuple((7,5,9)))) #用()\n",
    "print(\"tuple([6,8,5])->{}\".format(tuple([6,8,5]))) #用[]"
   ]
  },
  {
   "cell_type": "code",
   "execution_count": 12,
   "id": "5c25f24c-0171-499f-9208-c039f29123ec",
   "metadata": {},
   "outputs": [
    {
     "name": "stdout",
     "output_type": "stream",
     "text": [
      "items->[(0, [0, 1, 2, 3, 4, 5, 6, 7, 8, 9, 10, 11, 12, 13, 14, 15, 16, 17, 18, 19]), (1, [[153, 206, 204, 167, 83]]), (2, 'architecture')]\n",
      "dic=dict(items)->{0: [0, 1, 2, 3, 4, 5, 6, 7, 8, 9, 10, 11, 12, 13, 14, 15, 16, 17, 18, 19], 1: [[153, 206, 204, 167, 83]], 2: 'architecture'}\n",
      "dic[1]->[[153, 206, 204, 167, 83]]\n"
     ]
    }
   ],
   "source": [
    "import random\n",
    "items=[(0,[i for i in range(20)]),(1,[random.sample(list(range(60,2**8,1)),5)]),(2,'architecture')] #[i for i in range(5)] 为列表推导式 list comprehension/derivation\n",
    "print(\"items->{}\".format(items))\n",
    "dic=dict(items)\n",
    "print(\"dic=dict(items)->{}\".format(dic))\n",
    "print(\"dic[1]->{}\".format(dic[1]))"
   ]
  },
  {
   "cell_type": "code",
   "execution_count": 13,
   "id": "a8cdb4ab-6ecf-4066-8dd5-409f1e88f332",
   "metadata": {},
   "outputs": [
    {
     "name": "stdout",
     "output_type": "stream",
     "text": [
      "len(dic)->3\n"
     ]
    }
   ],
   "source": [
    "print(\"len(dic)->{}\".format(len(dic)))"
   ]
  },
  {
   "cell_type": "code",
   "execution_count": 16,
   "id": "fcdf5660-99b4-4bfe-a033-71b9027dbdd1",
   "metadata": {
    "tags": []
   },
   "outputs": [
    {
     "name": "stdout",
     "output_type": "stream",
     "text": [
      "dic[3]=(random.random(),random.uniform(200,300))->{0: [0, 1, 2, 3, 4, 5, 6, 7, 8, 9, 10, 11, 12, 13, 14, 15, 16, 17, 18, 19], 2: 'architecture', 3: (0.2984842252446601, 235.30386602524368)}\n",
      "1 in dic->False\n",
      "2 in dic->True\n",
      "dic.keys()->dict_keys([0, 2, 3])\n",
      "dic.values()->dict_values([[0, 1, 2, 3, 4, 5, 6, 7, 8, 9, 10, 11, 12, 13, 14, 15, 16, 17, 18, 19], 'architecture', (0.2984842252446601, 235.30386602524368)])\n",
      "dic.items()->dict_items([(0, [0, 1, 2, 3, 4, 5, 6, 7, 8, 9, 10, 11, 12, 13, 14, 15, 16, 17, 18, 19]), (2, 'architecture'), (3, (0.2984842252446601, 235.30386602524368))])\n",
      "__________________________________________________\n",
      "list(dic.keys())->[0, 2, 3]\n"
     ]
    }
   ],
   "source": [
    "dic[3]=(random.random(),random.uniform(200,300))\n",
    "del dic[1]\n",
    "print(\"dic[3]=(random.random(),random.uniform(200,300))->{}\".format(dic))\n",
    "\n",
    "print(\"1 in dic->{}\".format(1 in dic))\n",
    "print(\"2 in dic->{}\".format(2 in dic))#key\n",
    "print(\"dic.keys()->{}\".format(dic.keys()))\n",
    "print(\"dic.values()->{}\".format(dic.values()))\n",
    "print(\"dic.items()->{}\".format(dic.items()))\n",
    "print(\"_\"*50)\n",
    "print(\"list(dic.keys())->{}\".format(list(dic.keys())))"
   ]
  },
  {
   "cell_type": "code",
   "execution_count": 15,
   "id": "be9545c7-d0da-4965-b367-6add767bbd10",
   "metadata": {},
   "outputs": [
    {
     "name": "stdout",
     "output_type": "stream",
     "text": [
      "0 (0, [0, 1, 2, 3, 4, 5, 6, 7, 8, 9, 10, 11, 12, 13, 14, 15, 16, 17, 18, 19])\n",
      "1 (1, [[153, 206, 204, 167, 83]])\n",
      "2 (2, 'architecture')\n",
      "3 (3, (0.8636706486306017, 225.82071656044417))\n"
     ]
    }
   ],
   "source": [
    "for k,v in enumerate(dic.items()): \n",
    "    print(k,v)"
   ]
  },
  {
   "cell_type": "code",
   "execution_count": 20,
   "id": "d8554b89-0360-4008-b48a-06f7fdd086a5",
   "metadata": {},
   "outputs": [
    {
     "name": "stdout",
     "output_type": "stream",
     "text": [
      "lst_A=[10, 30, 50, 70],lst_B=[85, 245, 405, 565, 725]\n",
      "dic_2={0: [10, 30, 50, 70], 1: [85, 245, 405, 565, 725]}\n",
      "__________________________________________________\n"
     ]
    }
   ],
   "source": [
    "lst_A=list(range(10,90,20))\n",
    "lst_B=list(range(85,800,160))\n",
    "print(\"lst_A={},lst_B={}\".format(lst_A,lst_B))\n",
    "dic_2={0:lst_A,1:lst_B}\n",
    "print(\"dic_2={}\".format(dic_2))\n",
    "print(\"_\"*50)"
   ]
  },
  {
   "cell_type": "code",
   "execution_count": 46,
   "id": "8b47efd3-9729-4a50-850e-e02a2418d0a9",
   "metadata": {},
   "outputs": [
    {
     "name": "stdout",
     "output_type": "stream",
     "text": [
      "dic_assignment={8: [5, 7]}\n",
      "dic_2.clear()->{}\n",
      "dic_assignment={}\n",
      "dic_2[5]=list(range(800,950,46))->{5: [800, 846, 892, 938]}\n"
     ]
    }
   ],
   "source": [
    "dic_assignment=dic_2\n",
    "print(\"dic_assignment={}\".format(dic_assignment))\n",
    "dic_2.clear()#清除字典内容\n",
    "print(\"dic_2.clear()->{}\".format(dic_2))\n",
    "print(\"dic_assignment={}\".format(dic_assignment))\n",
    "dic_2[5]=list(range(800,950,46))\n",
    "print(\"dic_2[5]=list(range(800,950,46))->{}\".format(dic_2))"
   ]
  },
  {
   "cell_type": "code",
   "execution_count": 47,
   "id": "60b34191-57a6-4a43-9617-89f15ab0dbf2",
   "metadata": {},
   "outputs": [
    {
     "name": "stdout",
     "output_type": "stream",
     "text": [
      "dic_copy=dic_2.copy()->{5: [800, 846, 892, 938]}\n",
      "dic_2[8]=[5,7]->{5: [800, 846, 892, 938], 8: [5, 7]}\n",
      "dic_copy={5: [800, 846, 892, 938]}\n",
      "dic_copy[5].remove(846)->{5: [800, 892, 938]}\n",
      "dic_copy.setdefault(6,[123,234])->{5: [800, 892, 938], 6: [123, 234]}\n",
      "dic_2.pop(5)->{8: [5, 7]}\n"
     ]
    }
   ],
   "source": [
    "dic_copy=dic_2.copy()\n",
    "print(\"dic_copy=dic_2.copy()->{}\".format(dic_copy))\n",
    "dic_2[8]=[5,7]\n",
    "print(\"dic_2[8]=[5,7]->{}\".format(dic_2))\n",
    "print(\"dic_copy={}\".format(dic_copy))\n",
    "dic_copy[5].remove(846)\n",
    "print(\"dic_copy[5].remove(846)->{}\".format(dic_copy))\n",
    "dic_copy.setdefault(6,[123,234]) #返回指定键的值，如果不存在该键，则字典增加新的键/值对\n",
    "print(\"dic_copy.setdefault(6,[123,234])->{}\".format(dic_copy))\n",
    "dic_2.pop(5) #移除指定键/值，并返回该值\n",
    "print(\"dic_2.pop(5)->{}\".format(dic_2))"
   ]
  },
  {
   "cell_type": "code",
   "execution_count": 48,
   "id": "c53215d7-9566-4c51-8b18-7329aab53ddf",
   "metadata": {},
   "outputs": [
    {
     "name": "stdout",
     "output_type": "stream",
     "text": [
      "dic_update={8: [5, 7, 8, 9, 5, 6, 2], 9: [55, 66, 99, 88]}\n",
      "dic_2.update(dic_update->{8: [5, 7, 8, 9, 5, 6, 2], 9: [55, 66, 99, 88]}\n",
      "dic_2.get(9)->[55, 66, 99, 88]\n",
      "dic_2.popitem()->{8: [5, 7, 8, 9, 5, 6, 2]}\n",
      "dic_3={}.fromkeys([0,1,2,3,4,'A'])->{0: None, 1: None, 2: None, 3: None, 4: None, 'A': None}\n"
     ]
    }
   ],
   "source": [
    "dic_update={8:[5,7,8,9,5,6,2],9:[55,66,99,88]}\n",
    "print(\"dic_update={}\".format(dic_update))\n",
    "dic_2.update(dic_update) #更新字典\n",
    "print(\"dic_2.update(dic_update->{}\".format(dic_2))\n",
    "print(\"dic_2.get(9)->{}\".format(dic_2.get(9)))\n",
    "dic_2.popitem() #随即弹出一对键/值，并在该字典中移除\n",
    "print(\"dic_2.popitem()->{}\".format(dic_2))\n",
    "dic_3={}.fromkeys([0,1,2,3,4,'A']) #给定键，建立值为空的字典\n",
    "print(\"dic_3={}\"+\".fromkeys([0,1,2,3,4,'A'])->{}\".format(dic_3)) #找下escape characters 脱字符"
   ]
  },
  {
   "cell_type": "code",
   "execution_count": 63,
   "id": "9a3c6b61-d337-4bde-92f2-2b1f5fb31970",
   "metadata": {},
   "outputs": [
    {
     "name": "stdout",
     "output_type": "stream",
     "text": [
      "lst_s_3=list(\"Something for nothing.\")->['S', 'o', 'm', 'e', 't', 'h', 'i', 'n', 'g', ' ', 'f', 'o', 'r', ' ', 'n', 'o', 't', 'h', 'i', 'n', 'g', '.']\n",
      "\"Something\"+\" for\"+\" nothing.\"->Something for nothing.\n",
      "\"+\".join(str(89562248))->8+9+5+6+2+2+4+8\n",
      "len(\"Something for nothing.!\")->22\n",
      "coordinates.split(\",\")->['113.665412', '34.757975', '10.1']\n",
      "eval(coordinates)->(113.665412, 34.757975, 10.1)\n",
      "\"Something for nothing.\".lower()->something for nothing.\n",
      "\"Something for nothing.\".upper()->SOMETHING FOR NOTHING.\n",
      "\"Something for nothing.\"[10:]->for nothing.\n",
      "\"    Something for nothing.    \".strip()->Something for nothing.\n",
      "\"Something for nothing.\".replace(\"nothing\",\"everything\")->Something for everything.\n",
      "hello_lst.sort()>[' ', ' ', '.', 'S', 'e', 'f', 'g', 'g', 'h', 'h', 'i', 'i', 'm', 'n', 'n', 'n', 'o', 'o', 'o', 'r', 't', 't']\n",
      "\"Something for nothing.\".find(\"thing\")->4\n"
     ]
    }
   ],
   "source": [
    "lst_s_3=list(\"Something for nothing.\")\n",
    "print(\"lst_s_3=list(\\\"Something for nothing.\\\")->{}\".format(lst_s_3)) #\"\\\" escape character\n",
    "print(\"\\\"Something\\\"+\\\" for\\\"+\\\" nothing.\\\"->{}\".format(\"Something\"+\" for\"+\" nothing.\"))\n",
    "print(\"\\\"+\\\".join(str(89562248))->{}\".format(\"+\".join(str(89562248))))\n",
    "print(\"len(\\\"Something for nothing.!\\\")->{}\".format(len(\"Something for nothing.\")))\n",
    "coordinates=\"113.665412,34.757975,10.1\"\n",
    "print(\"coordinates.split(\\\",\\\")->{}\".format(coordinates.split(\",\")))\n",
    "print(\"eval(coordinates)->{}\".format(eval(coordinates))) #用eval()方法将字符串，转换为对应数值形式；\n",
    "print(\"\\\"Something for nothing.\\\".lower()->{}\".format(\"Something for nothing.\".lower()))\n",
    "print(\"\\\"Something for nothing.\\\".upper()->{}\".format(\"Something for nothing.\".upper()))\n",
    "print(\"\\\"Something for nothing.\\\"[10:]->{}\".format(\"Something for nothing.\"[10:]))#删减\n",
    "print(\"\\\"    Something for nothing.    \\\".strip()->{}\".format(\"    Something for nothing.    \".strip()))\n",
    "print(\"\\\"Something for nothing.\\\".replace(\\\"nothing\\\",\\\"everything\\\")->{}\".format(\"Something for nothing.\".replace(\"nothing\",\"everything\")))\n",
    "hello_lst=list(\"Something for nothing.\")\n",
    "hello_lst.sort()\n",
    "print(\"hello_lst.sort()>{}\".format(hello_lst))\n",
    "print(\"\\\"Something for nothing.\\\".find(\\\"thing\\\")->{}\".format(\"Something for nothing.\".find(\"thing\")))"
   ]
  },
  {
   "cell_type": "code",
   "execution_count": 68,
   "id": "5d3184b6-c5a1-41f9-ad51-a91d181ea995",
   "metadata": {},
   "outputs": [
    {
     "name": "stdout",
     "output_type": "stream",
     "text": [
      "new_str=format_str % values->Hello,sheep and goast!\n",
      "new_str_2=format_str_2 % (pi,3.1415926)->Pi with five decimals:3.14159,and enter a value with percent sign:3.1416 %\n"
     ]
    }
   ],
   "source": [
    "format_str=\"Hello,%s and %s!\"\n",
    "values=(\"sheep\",\"goast\")\n",
    "new_str=format_str % values\n",
    "print(\"new_str=format_str % values->{}\".format(new_str))\n",
    "\n",
    "format_str_2=\"Pi with five decimals:%.5f,and enter a value with percent sign:%.4f %%\" #字符串里包含实际的%，则通过%%即两个百分号进行转义\n",
    "\n",
    "from math import pi\n",
    "new_str_2=format_str_2 % (pi,3.1415926)\n",
    "print(\"new_str_2=format_str_2 % (pi,3.1415926)->{}\".format(new_str_2))"
   ]
  },
  {
   "cell_type": "code",
   "execution_count": 71,
   "id": "c70bd592-4c3b-492d-92ee-fa5b91e2a9fb",
   "metadata": {},
   "outputs": [
    {
     "name": "stdout",
     "output_type": "stream",
     "text": [
      "  3.141593,      3.14,3.14,Something ,Somet,58,3b,3.141593\n"
     ]
    }
   ],
   "source": [
    "format_str_3=\"%10f,%10.2f,%.2f,%.10s,%.*s,%d,%x,%f\"\n",
    "new_str_3=format_str_3%(pi,pi,pi,\"Something for nothing.\",5,\"Something for nothing.\",58,59,pi)\n",
    "print(\"{}\".format(new_str_3))"
   ]
  },
  {
   "cell_type": "code",
   "execution_count": 79,
   "id": "9b11fd2e-36dc-459d-b310-78bd6f7523c4",
   "metadata": {},
   "outputs": [
    {
     "name": "stdout",
     "output_type": "stream",
     "text": [
      "s_1=s_template_1.substitute(x=\"Architecture\")->Architecture,awsl,Architecture!\n",
      "s_2=s_template_2.substitute(x=\"architec\")->architecture is extraordinary!\n",
      "substitute_dict={'x': 'Architecture', 'y': 'Music'}\n",
      "s_3=s_template_3.substitute(substitute_dict)->Architecture and Music are both extraordinary!\n"
     ]
    }
   ],
   "source": [
    "from string import Template\n",
    "s_template_1=Template(\"$x,awsl,$x!\")\n",
    "s_1=s_template_1.substitute(x=\"Architecture\")\n",
    "print(\"s_1=s_template_1.substitute(x=\\\"Architecture\\\")->{}\".format(s_1))\n",
    "s_template_2=Template(\"${x}ture is extraordinary!\")\n",
    "s_2=s_template_2.substitute(x=\"architec\")\n",
    "print(\"s_2=s_template_2.substitute(x=\\\"architec\\\")->{}\".format(s_2))\n",
    "s_template_3=Template(\"$x and $y are both extraordinary!\")\n",
    "substitute_dict=dict([('x','Architecture'),('y','Music')])\n",
    "print(\"substitute_dict={}\".format(substitute_dict))\n",
    "s_3=s_template_3.substitute(substitute_dict)\n",
    "print(\"s_3=s_template_3.substitute(substitute_dict)->{}\".format(s_3))"
   ]
  },
  {
   "cell_type": "code",
   "execution_count": 5,
   "id": "218d2063-e71e-40a3-800f-4e5a6bd41000",
   "metadata": {},
   "outputs": [
    {
     "name": "stdout",
     "output_type": "stream",
     "text": [
      "re.findall(pattern_1,text)->['everything']\n",
      "re.findall(pattern_2,text)->[]\n",
      "re.findall(pattern_3,text)->['Something']\n"
     ]
    }
   ],
   "source": [
    "import re\n",
    "pattern_1='everything'\n",
    "text=\"Something for everything.\"\n",
    "print(\"re.findall(pattern_1,text)->{}\".format(re.findall(pattern_1,text)))\n",
    "pattern_2='Everything'\n",
    "print(\"re.findall(pattern_2,text)->{}\".format(re.findall(pattern_2,text)))\n",
    "pattern_3='Something'\n",
    "print(\"re.findall(pattern_3,text)->{}\".format(re.findall(pattern_3,text)))"
   ]
  },
  {
   "cell_type": "code",
   "execution_count": 6,
   "id": "8dd7c6f3-6c6f-4725-b543-583b5d5d159c",
   "metadata": {},
   "outputs": [
    {
     "name": "stdout",
     "output_type": "stream",
     "text": [
      "re.findall('.thing','Something for everything')->['ething', 'ything']\n",
      "re.findall('.ython','Hello gython!')->['gython']\n",
      "re.findall('.ython','Hello gPython!')->['Python']\n",
      "re.findall('.ython','Hello Pthon!')->[]\n"
     ]
    }
   ],
   "source": [
    "print(\"re.findall('.thing','Something for everything')->{}\".format(re.findall('.thing','Something for everything.')))\n",
    "print(\"re.findall('.ython','Hello gython!')->{}\".format(re.findall('.ython','Hello gython!')))\n",
    "print(\"re.findall('.ython','Hello gPython!')->{}\".format(re.findall('.ython','Hello gPython!')))\n",
    "print(\"re.findall('.ython','Hello Pthon!')->{}\".format(re.findall('.ython','Hello Pthon!')))"
   ]
  },
  {
   "cell_type": "code",
   "execution_count": 12,
   "id": "00f897a7-a2c5-4d7f-92d2-16f5ffad627a",
   "metadata": {},
   "outputs": [
    {
     "name": "stdout",
     "output_type": "stream",
     "text": [
      "re.findall(r'w?cadesign\\.cn,w+\\.cadesign\\.cn','cadesign.cn,www.cadesign.cn')->['cadesign.cn,www.cadesign.cn']\n",
      "re.findall(r'w{2}\\.cadesign\\.cn','www.cadesign.cn')->['ww.cadesign.cn']\n",
      "re.findall(r'w{1,3}\\.cadesign\\.cn','www.cadesign.cn')->['www.cadesign.cn']\n"
     ]
    }
   ],
   "source": [
    "print(\"re.findall(r'w?cadesign\\.cn,w+\\.cadesign\\.cn','cadesign.cn,www.cadesign.cn')->{}\".format(re.findall(r'w?cadesign\\.cn,w+\\.cadesign\\.cn','cadesign.cn,www.cadesign.cn')))\n",
    "print(\"re.findall(r'w{2}\"+\"\\.cadesign\\.cn','www.cadesign.cn')->{}\".format(re.findall(r'w{2}\\.cadesign\\.cn','www.cadesign.cn')))\n",
    "print(\"re.findall(r'w{1,3}\"+\"\\.cadesign\\.cn','www.cadesign.cn')->{}\".format(re.findall(r'w{1,3}\\.cadesign\\.cn','www.cadesign.cn')))"
   ]
  },
  {
   "cell_type": "code",
   "execution_count": 20,
   "id": "3675ac7a-68c2-4406-867a-95a3fb6eefd3",
   "metadata": {},
   "outputs": [
    {
     "name": "stdout",
     "output_type": "stream",
     "text": [
      "re.findall('[No]*thing.','Sth for nothing.')->['othing.']\n",
      "re.findall('[no]*thing.','Sth for nthing.')->['nthing.']\n",
      "re.findall('[no]*thing.','Sth for thing.')->['thing.']\n"
     ]
    }
   ],
   "source": [
    "print(\"re.findall('[No]*thing.','Sth for nothing.')->{}\".format(re.findall('[no]*thing.','Sth for Nothing.')))\n",
    "print(\"re.findall('[no]*thing.','Sth for nthing.')->{}\".format(re.findall('[no]*thing.','Sth for nthing.')))\n",
    "print(\"re.findall('[no]*thing.','Sth for thing.')->{}\".format(re.findall('[no]*thing.','Sth for thing.')))"
   ]
  },
  {
   "cell_type": "code",
   "execution_count": 21,
   "id": "dd402520-62f4-4573-a79f-ddcb61a47a87",
   "metadata": {},
   "outputs": [
    {
     "name": "stdout",
     "output_type": "stream",
     "text": [
      "re.findall('something|nothing','nothing')->['nothing']\n",
      "re.findall('something|nothing','something')->['something']\n",
      "re.findall('something|nothing','something and nothing')->['something', 'nothing']\n"
     ]
    }
   ],
   "source": [
    "print(\"re.findall('something|nothing','nothing')->{}\".format(re.findall('something|nothing','nothing')))\n",
    "print(\"re.findall('something|nothing','something')->{}\".format(re.findall('something|nothing','something')))\n",
    "print(\"re.findall('something|nothing','something and nothing')->{}\".format(re.findall('something|nothing','something and nothing')))"
   ]
  },
  {
   "cell_type": "code",
   "execution_count": 22,
   "id": "d3d1b928-2952-40ba-af19-13a449839e24",
   "metadata": {},
   "outputs": [
    {
     "name": "stdout",
     "output_type": "stream",
     "text": [
      "re.findall('\\d','His grades is 150.')->['1', '5', '0']\n",
      "re.findall('\\D','His grades is 150.')->['H', 'i', 's', ' ', 'g', 'r', 'a', 'd', 'e', 's', ' ', 'i', 's', ' ', '.']\n",
      "re.findall('[^0-9]','His grades is 150.')->['H', 'i', 's', ' ', 'g', 'r', 'a', 'd', 'e', 's', ' ', 'i', 's', ' ', '.']\n"
     ]
    }
   ],
   "source": [
    "print(\"re.findall('\\d','His grades is 150.')->{}\".format(re.findall('\\d','His grades is 150.')))\n",
    "print(\"re.findall('\\D','His grades is 150.')->{}\".format(re.findall('\\D','His grades is 150.')))\n",
    "print(\"re.findall('[^0-9]','His grades is 150.')->{}\".format(re.findall('[^0-9]','His grades is 150.')))"
   ]
  },
  {
   "cell_type": "code",
   "execution_count": 35,
   "id": "7030d188-4ba3-4c42-8ef1-612476d15ad4",
   "metadata": {},
   "outputs": [
    {
     "name": "stdout",
     "output_type": "stream",
     "text": [
      "re.findall('[a-z]','everything')->['e', 'v', 'e', 'r', 'y', 't', 'h', 'i', 'n', 'g']\n",
      "re.search('[a-z]+','everything')-><re.Match object; span=(0, 10), match='everything'>\n",
      "re.search('[a-z]+','everything')->get it!\n",
      "re.split(',','Some,,,for,,,nothing.')->['Some', '', '', 'for', '', '', 'nothing.']\n",
      "re.sub('Something','Everything','Something for nothing.')->Everything for nothing.\n",
      "pattern_compile.findall('Some,,,for,,,nothing.')->['nothing']\n",
      "re.match('s','something')->get it!\n"
     ]
    }
   ],
   "source": [
    "print(\"re.findall('[a-z]','everything')->{}\".format(re.findall('[a-z]','everything-3.0')))\n",
    "print(\"re.search('[a-z]+','everything')->{}\".format(re.search('[a-z]+','everything')))\n",
    "if re.search('[a-z]+','everything'):\n",
    "    print(\"re.search('[a-z]+','everything')->get it!\")\n",
    "print(\"re.split(',','Some,,,for,,,nothing.')->{}\".format(re.split(',','Some,,,for,,,nothing.')))\n",
    "print(\"re.sub('Something','Everything','Something for nothing.')->{}\".format(re.sub('Something','Everything','Something for nothing.')))\n",
    "\n",
    "pattern_compile=re.compile('nothing')\n",
    "print(\"pattern_compile.findall('Some,,,for,,,nothing.')->{}\".format(pattern_compile.findall('Some,,,for,,,nothing.')))\n",
    "\n",
    "if re.match('s','something'):\n",
    "    print(\"re.match('s','something')->get it!\")"
   ]
  },
  {
   "cell_type": "code",
   "execution_count": 36,
   "id": "2f280705-cd58-42ff-b056-633cbbb5d68e",
   "metadata": {},
   "outputs": [
    {
     "name": "stdout",
     "output_type": "stream",
     "text": [
      "'python'.find('python')->0\n",
      "'python'.find('thon')->2\n",
      "'python'.find('a')->-1\n",
      "'p' in 'python'->True\n"
     ]
    }
   ],
   "source": [
    "print(\"\\'python\\'.find(\\'python\\')->{}\".format('python'.find('python')))\n",
    "print(\"\\'python\\'.find(\\'thon\\')->{}\".format('python'.find('thon')))\n",
    "print(\"\\'python\\'.find(\\'a\\')->{}\".format('python'.find('a')))\n",
    "print(\"\\'p\\' in \\'python\\'->{}\".format('p' in 'python'))"
   ]
  },
  {
   "cell_type": "code",
   "execution_count": 37,
   "id": "7c7698d2-a656-453a-83d7-93e8be44caea",
   "metadata": {},
   "outputs": [
    {
     "name": "stdout",
     "output_type": "stream",
     "text": [
      "lst_1=[600, 676, 752]\n",
      "____________________________________________________________________________________________________\n",
      "for i in lst_1:\n",
      "600\n",
      "676\n",
      "752\n",
      "for i in range(len(lst_1)):\n",
      "idx=0,val=600\n",
      "idx=1,val=676\n",
      "idx=2,val=752\n",
      "****************************************************************************************************\n",
      "dic_4={'x': 8522, 'y': 7411, 'z': 9633, 'k': 9851}\n",
      "____________________________________________________________________________________________________\n",
      "for k in dic_4:\n",
      "x\n",
      "y\n",
      "z\n",
      "k\n",
      "for k,v in dic_4.items():\n",
      "key=x,val=8522\n",
      "key=y,val=7411\n",
      "key=z,val=9633\n",
      "key=k,val=9851\n"
     ]
    }
   ],
   "source": [
    "lst_1=list(range(600,800,76))\n",
    "print(\"lst_1={}\".format(lst_1))\n",
    "print(\"_\"*100)\n",
    "print(\"for i in lst_1:\")\n",
    "for i in lst_1:\n",
    "    print(i)\n",
    "print(\"for i in range(len(lst_1)):\")\n",
    "for i in range(len(lst_1)):\n",
    "    print(\"idx={},val={}\".format(i,lst_1[i]))\n",
    "print(\"*\"*100)   \n",
    "dic_4=dict(x=8522,y=7411,z=9633,k=9851)\n",
    "print(\"dic_4={}\".format(dic_4))\n",
    "print(\"_\"*100)\n",
    "print(\"for k in dic_4:\")\n",
    "for k in dic_4:\n",
    "    print(k)\n",
    "print(\"for k,v in dic_4.items():\")\n",
    "for k,v in dic_4.items():\n",
    "    print(\"key={},val={}\".format(k,v))"
   ]
  },
  {
   "cell_type": "code",
   "execution_count": 41,
   "id": "6ef98377-8a50-40ad-931c-ad4cf08c2035",
   "metadata": {},
   "outputs": [
    {
     "name": "stdout",
     "output_type": "stream",
     "text": [
      "x=7\n",
      "x=93\n",
      "x=179\n",
      "x=265\n",
      "x=351\n",
      "x=437\n",
      "x=523\n",
      "x=609\n",
      "x=695\n",
      "x=781\n"
     ]
    }
   ],
   "source": [
    "x=7\n",
    "while x<=800:\n",
    "    print(\"x={}\".format(x))\n",
    "    x+=86 #增量赋值; x*=2    "
   ]
  },
  {
   "cell_type": "code",
   "execution_count": 44,
   "id": "97c442e3-4a65-4801-9f65-0a70b65c31bf",
   "metadata": {},
   "outputs": [
    {
     "name": "stdout",
     "output_type": "stream",
     "text": [
      "x=9\n",
      "x=96\n",
      "x=183\n",
      "x=270\n",
      "x=357\n",
      "x=444\n",
      "x=531\n"
     ]
    }
   ],
   "source": [
    "x=9\n",
    "while x<=630:\n",
    "    print(\"x={}\".format(x))\n",
    "    x+=87 \n",
    "    if x>=569:break    "
   ]
  },
  {
   "cell_type": "code",
   "execution_count": 51,
   "id": "aef363c2-6e37-4f83-81fc-ac6f12b9ed79",
   "metadata": {},
   "outputs": [
    {
     "name": "stdout",
     "output_type": "stream",
     "text": [
      "sys.maxsize=9223372036854775807\n",
      "i=0\n",
      "i=1\n",
      "i=2\n",
      "i=3\n",
      "i=4\n",
      "i=5\n",
      "i=6\n",
      "i=7\n",
      "i=8\n",
      "i=9\n",
      "i=10\n",
      "i=11\n",
      "i=12\n",
      "i=13\n",
      "i=14\n",
      "i=15\n",
      "i=16\n",
      "i=17\n",
      "i=18\n",
      "i=19\n",
      "i=20\n",
      "i=21\n",
      "i=22\n"
     ]
    }
   ],
   "source": [
    "import sys\n",
    "print(\"sys.maxsize={}\".format(sys.maxsize))\n",
    "for i in range(sys.maxsize):\n",
    "    print(\"i={}\".format(i))\n",
    "    i+=6\n",
    "    if i>=28:break"
   ]
  },
  {
   "cell_type": "code",
   "execution_count": 58,
   "id": "a3353d5f-ebe1-44a1-90da-7ad38f12bcec",
   "metadata": {},
   "outputs": [
    {
     "name": "stdout",
     "output_type": "stream",
     "text": [
      "zip_lst=zip(lst_a,lst_b)-><zip object at 0x000002A555C8EF40>\n",
      "dict(zip_lst)->{125: 'point_lu', 126: 'point_chu', 127: 'point_kai', 128: 'point_fen'}\n",
      "125 point_lu\n",
      "126 point_chu\n",
      "127 point_kai\n",
      "128 point_fen\n",
      "a=(125, 126, 127, 128),b=('point_lu', 'point_chu', 'point_kai', 'point_fen')\n"
     ]
    }
   ],
   "source": [
    "lst_a=[125,126,127,128]\n",
    "lst_b=['point_lu','point_chu','point_kai','point_fen']\n",
    "zip_lst=zip(lst_a,lst_b) #The zip() function takes iterables (can be zero or more), aggregates them in a tuple, and returns it.\n",
    "print(\"zip_lst=zip(lst_a,lst_b)->{}\".format(zip_lst))\n",
    "print(\"dict(zip_lst)->{}\".format(dict(zip_lst)))\n",
    "\n",
    "zip_lst=zip(lst_a,lst_b) #迭代对象临时存储，读取完后为空\n",
    "for a,b in zip_lst:\n",
    "    print(a,b)\n",
    "    \n",
    "zip_lst=zip(lst_a,lst_b)\n",
    "a,b=zip(*zip_lst)\n",
    "print(\"a={},b={}\".format(a,b))"
   ]
  },
  {
   "cell_type": "code",
   "execution_count": 59,
   "id": "13472278-0613-44b2-916e-7fb79fd5da33",
   "metadata": {},
   "outputs": [
    {
     "name": "stdout",
     "output_type": "stream",
     "text": [
      "dic_4={0: 'point_a', 1: 'point_b', 2: 'point_c', 3: 'point_d'}\n",
      "dict((i,v) for i,v in enumerate(lst_c))->{0: 'point_a', 1: 'point_b', 2: 'point_c', 3: 'point_d'}\n",
      "__________________________________________________\n",
      "0:125,point_lu\n",
      "1:126,point_chu\n",
      "2:127,point_kai\n",
      "3:128,point_fen\n"
     ]
    }
   ],
   "source": [
    "lst_c=['point_a','point_b','point_c','point_d']\n",
    "dic_4={}\n",
    "for idx,value in enumerate(lst_c):\n",
    "    dic_4[idx]=value\n",
    "print(\"dic_4={}\".format(dic_4))\n",
    "print(\"dict((i,v) for i,v in enumerate(lst_c))->{}\".format(dict((i,v) for i,v in enumerate(lst_c)))) #list comprehension\n",
    "print(\"_\"*50)\n",
    "for i,(a,b) in enumerate(zip(lst_a,lst_b)):\n",
    "    print('%d:%s,%s'%(i,a,b))"
   ]
  },
  {
   "cell_type": "code",
   "execution_count": 62,
   "id": "be14c7ea-fe7f-4e8f-91d9-abcf250be2cc",
   "metadata": {},
   "outputs": [
    {
     "name": "stdout",
     "output_type": "stream",
     "text": [
      "[x*x for x in range(4,80,6) if x%2==0]->[16, 100, 256, 484, 784, 1156, 1600, 2116, 2704, 3364, 4096, 4900, 5776]\n",
      "[(x,y) for x in range(3)for y in range(2)]->[(0, 0), (0, 1), (1, 0), (1, 1), (2, 0), (2, 1)]\n",
      "[(x,y) for x,y in zip(range(3),range(2))]->[(0, 0), (1, 1)]\n",
      "[[a for a in range(1,10,3)],2,3,[b for b in range(60,100,7)],[[c for c in range(1500,2600,360)],3,9]]->[[1, 4, 7], 2, 3, [60, 67, 74, 81, 88, 95], [[1000, 1120, 1240, 1360, 1480, 1600, 1720, 1840, 1960], 3, 9]]\n",
      "flatten_lst(nested_list)->[1, 4, 7, 2, 3, 60, 67, 74, 81, 88, 95, 1000, 1120, 1240, 1360, 1480, 1600, 1720, 1840, 1960, 3, 9]\n"
     ]
    }
   ],
   "source": [
    "print(\"[x*x for x in range(4,80,6) if x%2==0]->{}\".format([x*x for x in range(4,80,6) if x%2==0]))\n",
    "print(\"[(x,y) for x in range(3)for y in range(2)]->{}\".format([(x,y) for x in range(3)for y in range(2)]))\n",
    "print(\"[(x,y) for x,y in zip(range(3),range(2))]->{}\".format([(x,y) for x,y in zip(range(3),range(2))]))\n",
    "nested_list=[[a for a in range(1,10,3)],2,3,[b for b in range(60,100,7)],[[c for c in range(1000,2000,120)],3,9]]\n",
    "print(\"[[a for a in range(1,10,3)],2,3,[b for b in range(60,100,7)],[[c for c in range(1500,2600,360)],3,9]]->{}\".format(nested_list)) #嵌套列表推导式\n",
    "\n",
    "flatten_lst=lambda lst: [m for n_lst in lst for m in flatten_lst(n_lst)] if type(lst) is list else [lst] #展平列表常用，可以放置到单独的.py文件中调用。lambda函数后文阐述\n",
    "print(\"flatten_lst(nested_list)->{}\".format(flatten_lst(nested_list)))"
   ]
  },
  {
   "cell_type": "code",
   "execution_count": 64,
   "id": "39c6679f-9f65-49cf-9472-e96713ee3ac7",
   "metadata": {},
   "outputs": [
    {
     "name": "stdout",
     "output_type": "stream",
     "text": [
      "It is really very huge!\n"
     ]
    }
   ],
   "source": [
    "x=98552232\n",
    "if x<0:\n",
    "    print('Oh,it is really small!')\n",
    "elif x==0:\n",
    "    print('Nothing.')\n",
    "elif 0<x<10:\n",
    "    print('Just a bigger big.')\n",
    "else:\n",
    "    print('It is really very huge!')"
   ]
  },
  {
   "cell_type": "code",
   "execution_count": 66,
   "id": "81c65219-a9f9-480f-a501-cf4a3ac881f2",
   "metadata": {},
   "outputs": [
    {
     "name": "stdout",
     "output_type": "stream",
     "text": [
      "x==y->True\n",
      "x is y->True\n",
      "x==z->True\n",
      "x is z->False\n",
      "x is not y->False\n",
      "x is not z->True\n",
      "id_x:2909132231232;id_y:2909132231232;id_z:2909132254784\n",
      "x=[8, 5],y=[8, 5],z=[8, 5, 7] after del x[2]\n"
     ]
    }
   ],
   "source": [
    "x=y=[8,5,7]\n",
    "z=[8,5,7]\n",
    "print(\"x==y->{}\".format(x==y))\n",
    "print(\"x is y->{}\".format(x is y))\n",
    "print(\"x==z->{}\".format(x==z))\n",
    "print(\"x is z->{}\".format(x is z))\n",
    "print(\"x is not y->{}\".format(x is not y))\n",
    "print(\"x is not z->{}\".format(x is not z))\n",
    "print(\"id_x:{};id_y:{};id_z:{}\".format(id(x),id(y),id(z))) #Memory Location\n",
    "\n",
    "del x[2]\n",
    "print(\"x={},y={},z={} after del x[2]\".format(x,y,z))"
   ]
  },
  {
   "cell_type": "code",
   "execution_count": 68,
   "id": "41895ae9-3b36-4bde-af71-2911face83b5",
   "metadata": {},
   "outputs": [
    {
     "name": "stdout",
     "output_type": "stream",
     "text": [
      "3 in x->False\n",
      "8522 in x->False\n",
      "312546798 not in x->True\n",
      "0 not in x->True\n"
     ]
    }
   ],
   "source": [
    "x=[8522,9865,312546798]\n",
    "print(\"3 in x->{}\".format(3 in x))\n",
    "print(\"8522 in x->{}\".format(0 in x))\n",
    "print(\"312546798 not in x->{}\".format(3 not in x))\n",
    "print(\"0 not in x->{}\".format(0 not in x))"
   ]
  },
  {
   "cell_type": "code",
   "execution_count": 69,
   "id": "5776bc95-fecf-472b-a195-4d62c2d71f53",
   "metadata": {},
   "outputs": [
    {
     "name": "stdout",
     "output_type": "stream",
     "text": [
      "You are so cute!\n"
     ]
    }
   ],
   "source": [
    "a,b,c=2**8,8**2,9*2\n",
    "if c>a and c<b:\n",
    "    print('a<c<b')\n",
    "else: print('You are so cute!')"
   ]
  },
  {
   "cell_type": "code",
   "execution_count": 77,
   "id": "b13a8145-cf27-4e0c-898c-619dcb623c05",
   "metadata": {},
   "outputs": [
    {
     "name": "stdout",
     "output_type": "stream",
     "text": [
      "simple_func(9,8)->745\n",
      "simple_func(8,9)->530\n",
      "simple_func(y=9,x=8)->530\n"
     ]
    }
   ],
   "source": [
    "def simple_func(x,y):\n",
    "    z=pow(x,3)+2*y\n",
    "    return z\n",
    "print(\"simple_func(9,8)->{}\".format(simple_func(9,8)))\n",
    "print(\"simple_func(8,9)->{}\".format(simple_func(8,9)))\n",
    "print(\"simple_func(y=9,x=8)->{}\".format(simple_func(y=9,x=8)))"
   ]
  },
  {
   "cell_type": "code",
   "execution_count": 83,
   "id": "fc9c6bc9-82d0-4c09-b694-e578241eb6ac",
   "metadata": {},
   "outputs": [
    {
     "name": "stdout",
     "output_type": "stream",
     "text": [
      "fibonacci(88,5)->[89, 144, 233, 377, 610]\n",
      "fibonacci(800,5)->[987, 1597, 2584, 4181, 6765]\n"
     ]
    }
   ],
   "source": [
    "def fibonacci(s,count): #定义fib函数的方法\n",
    "    fib_lst=[0,1]\n",
    "    fib_part=[]\n",
    "    if s==0 or s==1:\n",
    "        fib_part[:]=fib_lst\n",
    "        for i in range(count-2):\n",
    "            fib_part.append(fib_part[-1]+fib_part[-2])\n",
    "    else:\n",
    "        while True:\n",
    "            fib_lst[:]=[fib_lst[1],fib_lst[0]+fib_lst[1]]\n",
    "            #print(fib_lst)\n",
    "            if fib_lst[1]-s>=0:break\n",
    "        fib_part[:]=fib_lst\n",
    "        if abs(fib_lst[0]-s)>=abs(fib_lst[1]-s):\n",
    "            for i in range(count-1):\n",
    "                fib_part.append(fib_part[-1]+fib_part[-2])\n",
    "            fib_part.pop(0)\n",
    "        else:\n",
    "            for i in range(count-2):\n",
    "                fib_part.append(fib_part[-1]+fib_part[-2])\n",
    "    return fib_part\n",
    "\n",
    "print(\"fibonacci(88,5)->{}\".format(fibonacci(88,5)))\n",
    "print(\"fibonacci(800,5)->{}\".format(fibonacci(800,5)))"
   ]
  },
  {
   "cell_type": "code",
   "execution_count": 86,
   "id": "22998719-60e2-4d72-83ac-87d90f4c7bda",
   "metadata": {},
   "outputs": [
    {
     "name": "stdout",
     "output_type": "stream",
     "text": [
      "576\n"
     ]
    }
   ],
   "source": [
    "#递归\n",
    "def factorial(n):\n",
    "    if n==2:\n",
    "        return 3\n",
    "    else:\n",
    "        return n*factorial(n-2)\n",
    "print(factorial(8))"
   ]
  },
  {
   "cell_type": "code",
   "execution_count": 98,
   "id": "ab307752-2da7-47cd-ac43-0022b9b80678",
   "metadata": {},
   "outputs": [
    {
     "name": "stdout",
     "output_type": "stream",
     "text": [
      "black.wander->comfortable\n",
      "black.eat()->\n",
      "Moooooaaa...\n",
      "black.eat()->\n",
      "I'am full\n",
      "black.sing()->\n",
      "Mo Mo~\n"
     ]
    }
   ],
   "source": [
    "class cow:\n",
    "    wander='comfortable' \n",
    "    def __init__(self):\n",
    "        self.hungry=True\n",
    "    def eat(self):\n",
    "        if self.hungry:\n",
    "            print('Moooooaaa...')\n",
    "            self.hungry=False\n",
    "        else:\n",
    "            print(\"I'am full\")\n",
    "\n",
    "class milk(cow):\n",
    "    def __init__(self):\n",
    "        super(milk,self).__init__()\n",
    "        self.sound='Mo Mo~' \n",
    "    def sing(self):\n",
    "        print(self.sound)\n",
    "        \n",
    "black=milk()\n",
    "print(\"black.wander->{}\".format(black.wander))\n",
    "print(\"black.eat()->\")\n",
    "black.eat()\n",
    "print(\"black.eat()->\")\n",
    "black.eat()\n",
    "print(\"black.sing()->\")\n",
    "black.sing()"
   ]
  },
  {
   "cell_type": "code",
   "execution_count": 100,
   "id": "1e45850c-1c97-45b7-a0fb-63309e09e3db",
   "metadata": {},
   "outputs": [
    {
     "name": "stdout",
     "output_type": "stream",
     "text": [
      "blackcow.sing()->\n",
      "Mo Mo~\n",
      "whitecow.sing()->\n",
      "Mo Mo~\n",
      "Mo Mo~\n"
     ]
    }
   ],
   "source": [
    "blackcow=milk()\n",
    "whitecow=milk()\n",
    "print(\"blackcow.sing()->\")\n",
    "blackcow.sing()\n",
    "print(\"whitecow.sing()->\")\n",
    "whitecow.sing()\n",
    "whitecow.sing()"
   ]
  },
  {
   "cell_type": "code",
   "execution_count": 101,
   "id": "4a6526cb-2b75-4e05-aff5-147720f96dcb",
   "metadata": {},
   "outputs": [
    {
     "name": "stdout",
     "output_type": "stream",
     "text": [
      "blackcow.wander->comfortable\n",
      "blackcow.wander after redefining the blackcow's attribute->interesting\n",
      "whitecow.wander->comfortable\n"
     ]
    }
   ],
   "source": [
    "print(\"blackcow.wander->{}\".format(blackcow.wander))\n",
    "blackcow.wander='interesting' #重新赋予实例的属性\n",
    "print(\"blackcow.wander after redefining the blackcow's attribute->{}\".format(blackcow.wander))\n",
    "print(\"whitecow.wander->{}\".format(whitecow.wander))"
   ]
  },
  {
   "cell_type": "code",
   "execution_count": 102,
   "id": "20134e1a-3ff0-453a-841c-b99e8a2cbdb5",
   "metadata": {},
   "outputs": [
    {
     "name": "stdout",
     "output_type": "stream",
     "text": [
      "Mo Mo~\n"
     ]
    }
   ],
   "source": [
    "blackcow.sing()"
   ]
  },
  {
   "cell_type": "code",
   "execution_count": 103,
   "id": "63323f78-05a1-4454-8d71-25c921425768",
   "metadata": {},
   "outputs": [
    {
     "name": "stdout",
     "output_type": "stream",
     "text": [
      "Help on class cow in module __main__:\n",
      "\n",
      "class cow(builtins.object)\n",
      " |  Methods defined here:\n",
      " |  \n",
      " |  __init__(self)\n",
      " |      Initialize self.  See help(type(self)) for accurate signature.\n",
      " |  \n",
      " |  eat(self)\n",
      " |  \n",
      " |  ----------------------------------------------------------------------\n",
      " |  Data descriptors defined here:\n",
      " |  \n",
      " |  __dict__\n",
      " |      dictionary for instance variables (if defined)\n",
      " |  \n",
      " |  __weakref__\n",
      " |      list of weak references to the object (if defined)\n",
      " |  \n",
      " |  ----------------------------------------------------------------------\n",
      " |  Data and other attributes defined here:\n",
      " |  \n",
      " |  wander = 'comfortable'\n",
      "\n"
     ]
    }
   ],
   "source": [
    "help(cow)"
   ]
  },
  {
   "cell_type": "code",
   "execution_count": 104,
   "id": "94635868-6b0d-4577-a4a7-434bd3d8196c",
   "metadata": {},
   "outputs": [
    {
     "name": "stdout",
     "output_type": "stream",
     "text": [
      "Help on class milk in module __main__:\n",
      "\n",
      "class milk(cow)\n",
      " |  Method resolution order:\n",
      " |      milk\n",
      " |      cow\n",
      " |      builtins.object\n",
      " |  \n",
      " |  Methods defined here:\n",
      " |  \n",
      " |  __init__(self)\n",
      " |      Initialize self.  See help(type(self)) for accurate signature.\n",
      " |  \n",
      " |  sing(self)\n",
      " |  \n",
      " |  ----------------------------------------------------------------------\n",
      " |  Methods inherited from cow:\n",
      " |  \n",
      " |  eat(self)\n",
      " |  \n",
      " |  ----------------------------------------------------------------------\n",
      " |  Data descriptors inherited from cow:\n",
      " |  \n",
      " |  __dict__\n",
      " |      dictionary for instance variables (if defined)\n",
      " |  \n",
      " |  __weakref__\n",
      " |      list of weak references to the object (if defined)\n",
      " |  \n",
      " |  ----------------------------------------------------------------------\n",
      " |  Data and other attributes inherited from cow:\n",
      " |  \n",
      " |  wander = 'comfortable'\n",
      "\n"
     ]
    }
   ],
   "source": [
    "help(milk)"
   ]
  },
  {
   "cell_type": "code",
   "execution_count": 16,
   "id": "fc0a5dab-a872-4070-ad66-fa93aec169f1",
   "metadata": {},
   "outputs": [
    {
     "name": "stdout",
     "output_type": "stream",
     "text": [
      "fa=[1, 2, 5, 12, 29, 70]\n",
      "fb=[169, 408, 985, 2378, 5741, 13860]\n"
     ]
    }
   ],
   "source": [
    "class Fibs():\n",
    "    def __init__(self):\n",
    "        self.a=0\n",
    "        self.b=1\n",
    "    def next(self):                           #实现迭代器的next方法\n",
    "        self.a,self.b=self.b,self.a+2*self.b\n",
    "        return self.a\n",
    "    def __iter__(self):                       #实现迭代方法\n",
    "        return self\n",
    "\n",
    "f=Fibs()\n",
    "fa=[]\n",
    "fb=[]\n",
    "for i in range(6):\n",
    "    fa.append(f.next())\n",
    "print(\"fa={}\".format(fa))\n",
    "for i in range(6):\n",
    "    fb.append(f.next())\n",
    "print(\"fb={}\".format(fb))"
   ]
  },
  {
   "cell_type": "code",
   "execution_count": 26,
   "id": "8599ccf8-ca29-4cab-bc1e-39ec59a4c31d",
   "metadata": {},
   "outputs": [
    {
     "name": "stdout",
     "output_type": "stream",
     "text": [
      "lst_d=[96, 183, 270, 357, 444, 531, 618, 705, 792, 879]\n",
      "____________________________________________________________________________________________________\n",
      "next(lst_iter)->96\n",
      "next(lst_iter)->183\n",
      "270\n",
      "357\n",
      "444\n",
      "531\n",
      "618\n",
      "705\n",
      "792\n",
      "879\n"
     ]
    },
    {
     "ename": "StopIteration",
     "evalue": "",
     "output_type": "error",
     "traceback": [
      "\u001b[1;31m---------------------------------------------------------------------------\u001b[0m",
      "\u001b[1;31mStopIteration\u001b[0m                             Traceback (most recent call last)",
      "\u001b[1;32m<ipython-input-26-f8feaf9f5722>\u001b[0m in \u001b[0;36m<module>\u001b[1;34m\u001b[0m\n\u001b[0;32m      7\u001b[0m \u001b[1;32mfor\u001b[0m \u001b[0mi\u001b[0m \u001b[1;32min\u001b[0m \u001b[0mlst_iter\u001b[0m\u001b[1;33m:\u001b[0m\u001b[1;33m\u001b[0m\u001b[1;33m\u001b[0m\u001b[0m\n\u001b[0;32m      8\u001b[0m     \u001b[0mprint\u001b[0m\u001b[1;33m(\u001b[0m\u001b[0mi\u001b[0m\u001b[1;33m)\u001b[0m\u001b[1;33m\u001b[0m\u001b[1;33m\u001b[0m\u001b[0m\n\u001b[1;32m----> 9\u001b[1;33m \u001b[0mnext\u001b[0m\u001b[1;33m(\u001b[0m\u001b[0mlst_iter\u001b[0m\u001b[1;33m)\u001b[0m\u001b[1;33m\u001b[0m\u001b[1;33m\u001b[0m\u001b[0m\n\u001b[0m",
      "\u001b[1;31mStopIteration\u001b[0m: "
     ]
    }
   ],
   "source": [
    "lst_d=list(range(96,900,87))\n",
    "print(\"lst_d={}\".format(lst_d))\n",
    "print(\"_\"*100)\n",
    "lst_iter=iter(lst_d)\n",
    "print(\"next(lst_iter)->{}\".format(next(lst_iter)))\n",
    "print(\"next(lst_iter)->{}\".format(next(lst_iter)))\n",
    "for i in lst_iter:\n",
    "    print(i)\n",
    "next(lst_iter)"
   ]
  },
  {
   "cell_type": "code",
   "execution_count": 42,
   "id": "dd793017-a4db-4dd3-b653-a2b8aa314f30",
   "metadata": {},
   "outputs": [
    {
     "name": "stdout",
     "output_type": "stream",
     "text": [
      "lst_e=[[96, 183, 270, 357, 444, 531, 618, 705, 792, 879], [96, 900, 87, [0, 1, 2, 3, 4, 5], 1024]]\n",
      "____________________________________________________________________________________________________\n",
      "flatten_lst=[96, 183, 270, 357, 444, 531, 618, 705, 792, 879, 96, 900, 87, 0, 1, 2, 3, 4, 5, 1024]\n"
     ]
    }
   ],
   "source": [
    "lst_e=[list(range(96,900,87)),[96,900,87,list(range(6)),2**10]]            #生成器\n",
    "print(\"lst_e={}\".format(lst_e))\n",
    "print(\"_\"*100)\n",
    "flatten_lst=[]\n",
    "for v_1 in lst_e:\n",
    "    try:\n",
    "        for v_2 in v_1:\n",
    "            try:\n",
    "                for v_3 in v_2:\n",
    "                    flatten_lst.append(v_3)\n",
    "            except TypeError:\n",
    "                flatten_lst.append(v_2)\n",
    "    except TypeError:\n",
    "        flatten_lst.append(v_1)\n",
    "print(\"flatten_lst={}\".format(flatten_lst))"
   ]
  },
  {
   "cell_type": "code",
   "execution_count": 47,
   "id": "29758c59-c39c-4230-b2f2-19933dce31b0",
   "metadata": {},
   "outputs": [
    {
     "name": "stdout",
     "output_type": "stream",
     "text": [
      "list(flatten(lst_e))->[96, 183, 270, 357, 444, 531, 618, 705, 792, 879, 96, 900, 87, 0, 1, 2, 3, 4, 5, 1024]\n"
     ]
    }
   ],
   "source": [
    "def flatten(lst):                                  #定义生成器（包含yield语句的函数）\n",
    "    try:                                           #使用语句try\\except捕捉异常        \n",
    "        for n_lst in lst:                          #循环列表            \n",
    "            for m in flatten(n_lst):               #使用递归的方法循环子列表                \n",
    "                yield m                            #使用yield语句，每次产生多个值，当返回一个值时函数就会被冻结，当再次激活时，从停止的那点开始执行\n",
    "    except TypeError:                              #当函数被告知展开一个元素时，引发TypeError异常，生成器返回一个值\n",
    "        yield lst                                  #生成器返回引发异常的一个值     \n",
    "print(\"list(flatten(lst_e))->{}\".format(list(flatten(lst_e))))"
   ]
  },
  {
   "cell_type": "code",
   "execution_count": 48,
   "id": "60f8d870-7aa8-458f-8cfe-1b2d8ca027ce",
   "metadata": {},
   "outputs": [],
   "source": [
    "def infinite():\n",
    "    n=0\n",
    "    while True:\n",
    "        yield 'num#'+str(n)\n",
    "        n+=1"
   ]
  },
  {
   "cell_type": "code",
   "execution_count": 53,
   "id": "1cae3a2b-7a2c-486b-bd17-566a708a5cad",
   "metadata": {},
   "outputs": [
    {
     "name": "stdout",
     "output_type": "stream",
     "text": [
      "next(n)->num#0\n",
      "next(n)->num#1\n",
      "next(n)->num#2\n",
      "[next(n) for i in range(5)]->['num#3', 'num#4', 'num#5', 'num#6', 'num#7']\n"
     ]
    }
   ],
   "source": [
    "n=infinite()\n",
    "print(\"next(n)->{}\".format(next(n)))\n",
    "print(\"next(n)->{}\".format(next(n)))\n",
    "print(\"next(n)->{}\".format(next(n)))\n",
    "print(\"[next(n) for i in range(5)]->{}\".format([next(n) for i in range(5)]))"
   ]
  },
  {
   "cell_type": "code",
   "execution_count": 74,
   "id": "10022485-7d39-458e-8925-797aca1fdafd",
   "metadata": {},
   "outputs": [
    {
     "name": "stdout",
     "output_type": "stream",
     "text": [
      "[[(9*pi*(2*(u/(n-1))-3),2*pi*(2*(v/(n-1))-1)) for u in range(n)] for v in range(n)]->[[(-84.82300164692441, -6.283185307179586), (-65.97344572538566, -6.283185307179586), (-47.1238898038469, -6.283185307179586), (-28.274333882308138, -6.283185307179586)], [(-84.82300164692441, -2.0943951023931957), (-65.97344572538566, -2.0943951023931957), (-47.1238898038469, -2.0943951023931957), (-28.274333882308138, -2.0943951023931957)], [(-84.82300164692441, 2.094395102393195), (-65.97344572538566, 2.094395102393195), (-47.1238898038469, 2.094395102393195), (-28.274333882308138, 2.094395102393195)], [(-84.82300164692441, 6.283185307179586), (-65.97344572538566, 6.283185307179586), (-47.1238898038469, 6.283185307179586), (-28.274333882308138, 6.283185307179586)]]\n",
      "*************************************************************************************************************************************************\n",
      "([(2*pi*(2*(u/(n-1))-1),2*pi*(2*(v/(n-1))-1)) for u in range(n)] for v in range(n))-><generator object <genexpr> at 0x000001EC235AD040>\n",
      "next(gen)->[(-6.283185307179586, -6.283185307179586), (-2.0943951023931957, -6.283185307179586), (2.094395102393195, -6.283185307179586), (6.283185307179586, -6.283185307179586)]\n",
      "next(gen)->[(-6.283185307179586, -2.0943951023931957), (-2.0943951023931957, -2.0943951023931957), (2.094395102393195, -2.0943951023931957), (6.283185307179586, -2.0943951023931957)]\n"
     ]
    }
   ],
   "source": [
    "from math import pi\n",
    "\n",
    "n=4\n",
    "print(\"[[(9*pi*(2*(u/(n-1))-3),2*pi*(2*(v/(n-1))-1)) for u in range(n)] for v in range(n)]->{}\".format([[(9*pi*(2*(u/(n-1))-3),2*pi*(2*(v/(n-1))-1)) for u in range(n)] for v in range(n)]))\n",
    "print(\"*\"*145)\n",
    "print(\"([(2*pi*(2*(u/(n-1))-1),2*pi*(2*(v/(n-1))-1)) for u in range(n)] for v in range(n))->{}\".format(([(2*pi*(2*(u/(n-1))-1),2*pi*(2*(v/(n-1))-1)) for u in range(n)] for v in range(n))))\n",
    "gen=([(2*pi*(2*(u/(n-1))-1),2*pi*(2*(v/(n-1))-1)) for u in range(n)] for v in range(n))\n",
    "print(\"next(gen)->{}\".format(next(gen)))\n",
    "print(\"next(gen)->{}\".format(next(gen)))"
   ]
  },
  {
   "cell_type": "code",
   "execution_count": 78,
   "id": "977eca88-80ea-4166-a9b8-295c3748680b",
   "metadata": {},
   "outputs": [
    {
     "name": "stdout",
     "output_type": "stream",
     "text": [
      "f_convert_a('2**10')->2**10\n",
      "f_convert_a('Something for nothing.')->Something for nothing.\n",
      "f_convert_a(987,897,789,798)->(987, 897, 789, 798)\n"
     ]
    }
   ],
   "source": [
    "def f_convert_a(x):\n",
    "    try:\n",
    "        return float(x)\n",
    "    except:\n",
    "        return x\n",
    "print(\"f_convert_a('2**10')->{}\".format(f_convert_a('2**10')))    \n",
    "print(\"f_convert_a('Something for nothing.')->{}\".format(f_convert_a('Something for nothing.')))  \n",
    "print(\"f_convert_a(987,897,789,798)->{}\".format(f_convert_a((987,897,789,798))))  "
   ]
  },
  {
   "cell_type": "code",
   "execution_count": 80,
   "id": "4b98514c-c19d-458f-be3a-b552a824b0e1",
   "metadata": {},
   "outputs": [
    {
     "name": "stdout",
     "output_type": "stream",
     "text": [
      "f_convert_b('3.1415')->3.1415\n",
      "f_convert_b('string')->string\n"
     ]
    },
    {
     "ename": "TypeError",
     "evalue": "float() argument must be a string or a number, not 'tuple'",
     "output_type": "error",
     "traceback": [
      "\u001b[1;31m---------------------------------------------------------------------------\u001b[0m",
      "\u001b[1;31mTypeError\u001b[0m                                 Traceback (most recent call last)",
      "\u001b[1;32m<ipython-input-80-f91314f2dcc4>\u001b[0m in \u001b[0;36m<module>\u001b[1;34m\u001b[0m\n\u001b[0;32m      6\u001b[0m \u001b[0mprint\u001b[0m\u001b[1;33m(\u001b[0m\u001b[1;34m\"f_convert_b('3.1415')->{}\"\u001b[0m\u001b[1;33m.\u001b[0m\u001b[0mformat\u001b[0m\u001b[1;33m(\u001b[0m\u001b[0mf_convert_b\u001b[0m\u001b[1;33m(\u001b[0m\u001b[1;34m'3.1415'\u001b[0m\u001b[1;33m)\u001b[0m\u001b[1;33m)\u001b[0m\u001b[1;33m)\u001b[0m\u001b[1;33m\u001b[0m\u001b[1;33m\u001b[0m\u001b[0m\n\u001b[0;32m      7\u001b[0m \u001b[0mprint\u001b[0m\u001b[1;33m(\u001b[0m\u001b[1;34m\"f_convert_b('string')->{}\"\u001b[0m\u001b[1;33m.\u001b[0m\u001b[0mformat\u001b[0m\u001b[1;33m(\u001b[0m\u001b[0mf_convert_b\u001b[0m\u001b[1;33m(\u001b[0m\u001b[1;34m'string'\u001b[0m\u001b[1;33m)\u001b[0m\u001b[1;33m)\u001b[0m\u001b[1;33m)\u001b[0m\u001b[1;33m\u001b[0m\u001b[1;33m\u001b[0m\u001b[0m\n\u001b[1;32m----> 8\u001b[1;33m \u001b[0mprint\u001b[0m\u001b[1;33m(\u001b[0m\u001b[1;34m\"f_convert_b(9562,87546,85236,94123987)->{}\"\u001b[0m\u001b[1;33m.\u001b[0m\u001b[0mformat\u001b[0m\u001b[1;33m(\u001b[0m\u001b[0mf_convert_b\u001b[0m\u001b[1;33m(\u001b[0m\u001b[1;33m(\u001b[0m\u001b[1;36m9562\u001b[0m\u001b[1;33m,\u001b[0m\u001b[1;36m87546\u001b[0m\u001b[1;33m,\u001b[0m\u001b[1;36m85236\u001b[0m\u001b[1;33m,\u001b[0m\u001b[1;36m94123987\u001b[0m\u001b[1;33m)\u001b[0m\u001b[1;33m)\u001b[0m\u001b[1;33m)\u001b[0m\u001b[1;33m)\u001b[0m\u001b[1;33m\u001b[0m\u001b[1;33m\u001b[0m\u001b[0m\n\u001b[0m",
      "\u001b[1;32m<ipython-input-80-f91314f2dcc4>\u001b[0m in \u001b[0;36mf_convert_b\u001b[1;34m(x)\u001b[0m\n\u001b[0;32m      1\u001b[0m \u001b[1;32mdef\u001b[0m \u001b[0mf_convert_b\u001b[0m\u001b[1;33m(\u001b[0m\u001b[0mx\u001b[0m\u001b[1;33m)\u001b[0m\u001b[1;33m:\u001b[0m\u001b[1;33m\u001b[0m\u001b[1;33m\u001b[0m\u001b[0m\n\u001b[0;32m      2\u001b[0m     \u001b[1;32mtry\u001b[0m\u001b[1;33m:\u001b[0m\u001b[1;33m\u001b[0m\u001b[1;33m\u001b[0m\u001b[0m\n\u001b[1;32m----> 3\u001b[1;33m         \u001b[1;32mreturn\u001b[0m \u001b[0mfloat\u001b[0m\u001b[1;33m(\u001b[0m\u001b[0mx\u001b[0m\u001b[1;33m)\u001b[0m\u001b[1;33m\u001b[0m\u001b[1;33m\u001b[0m\u001b[0m\n\u001b[0m\u001b[0;32m      4\u001b[0m     \u001b[1;32mexcept\u001b[0m \u001b[0mValueError\u001b[0m\u001b[1;33m:\u001b[0m\u001b[1;33m\u001b[0m\u001b[1;33m\u001b[0m\u001b[0m\n\u001b[0;32m      5\u001b[0m         \u001b[1;32mreturn\u001b[0m \u001b[0mx\u001b[0m\u001b[1;33m\u001b[0m\u001b[1;33m\u001b[0m\u001b[0m\n",
      "\u001b[1;31mTypeError\u001b[0m: float() argument must be a string or a number, not 'tuple'"
     ]
    }
   ],
   "source": [
    "def f_convert_b(x):\n",
    "    try:\n",
    "        return float(x)\n",
    "    except ValueError:\n",
    "        return x\n",
    "print(\"f_convert_b('3.1415')->{}\".format(f_convert_b('3.1415')))    \n",
    "print(\"f_convert_b('string')->{}\".format(f_convert_b('string')))  \n",
    "print(\"f_convert_b(9562,87546,85236,94123987)->{}\".format(f_convert_b((9562,87546,85236,94123987))))  "
   ]
  },
  {
   "cell_type": "code",
   "execution_count": 90,
   "id": "26646ce0-ee88-4ea3-bc33-6e2755860ebe",
   "metadata": {},
   "outputs": [
    {
     "name": "stdout",
     "output_type": "stream",
     "text": [
      "f_convert_c('9.6523')->9.6523\n",
      "f_convert_c('Something for nothing.')->Something for nothing.\n",
      "(9562, 87546, 85236, 94123987) TypeError\n",
      "f_convert_c(9562,87546,85236,94123987)->None\n"
     ]
    }
   ],
   "source": [
    "def f_convert_c(x):\n",
    "    try:\n",
    "        return float(x)\n",
    "    except ValueError:\n",
    "        return x\n",
    "    except TypeError:\n",
    "        print(x,'TypeError')\n",
    "print(\"f_convert_c('9.6523')->{}\".format(f_convert_c('9.6523')))    \n",
    "print(\"f_convert_c('Something for nothing.')->{}\".format(f_convert_c('Something for nothing.')))  \n",
    "print(\"f_convert_c(9562,87546,85236,94123987)->{}\".format(f_convert_c((9562,87546,85236,94123987))))      "
   ]
  },
  {
   "cell_type": "code",
   "execution_count": 89,
   "id": "80a1a398-74b1-4913-bcc6-c949b93b9084",
   "metadata": {},
   "outputs": [
    {
     "name": "stdout",
     "output_type": "stream",
     "text": [
      "f_convert_d('9.6523')->9.6523\n",
      "Something for nothing. It is not allowed\n",
      "f_convert_d('Something for nothing.')->None\n",
      "(9562, 87546, 85236, 94123987) It is not allowed\n",
      "f_convert_d(9562,87546,85236,94123987)->None\n"
     ]
    }
   ],
   "source": [
    "def f_convert_d(x):\n",
    "    try:\n",
    "        return float(x)\n",
    "    except (ValueError,TypeError):\n",
    "        print(x,'It is not allowed')\n",
    "print(\"f_convert_d('9.6523')->{}\".format(f_convert_d('9.6523')))    \n",
    "print(\"f_convert_d('Something for nothing.')->{}\".format(f_convert_d('Something for nothing.')))  \n",
    "print(\"f_convert_d(9562,87546,85236,94123987)->{}\".format(f_convert_d((9562,87546,85236,94123987)))) "
   ]
  },
  {
   "cell_type": "code",
   "execution_count": 92,
   "id": "29492b54-e865-4ee2-9fb6-fb3c1ad83ac6",
   "metadata": {},
   "outputs": [
    {
     "name": "stdout",
     "output_type": "stream",
     "text": [
      "f_convert_e('9.6523')->9.6523\n",
      "Something for nothing. could not convert string to float: 'Something for nothing.'\n",
      "f_convert_e('Something for nothing.')->None\n",
      "(9562, 87546, 85236, 94123987) float() argument must be a string or a number, not 'tuple'\n",
      "f_convert_e(9562,87546,85236,94123987)->None\n"
     ]
    }
   ],
   "source": [
    "def f_convert_e(x):\n",
    "    try:\n",
    "        return float(x)\n",
    "    except (ValueError,TypeError) as e:\n",
    "        return print(x,e)\n",
    "print(\"f_convert_e('9.6523')->{}\".format(f_convert_e('9.6523')))\n",
    "print(\"f_convert_e('Something for nothing.')->{}\".format(f_convert_e('Something for nothing.')))\n",
    "print(\"f_convert_e(9562,87546,85236,94123987)->{}\".format(f_convert_e((9562,87546,85236,94123987))))"
   ]
  },
  {
   "cell_type": "code",
   "execution_count": 93,
   "id": "b425a0b5-6742-4b2e-b1fc-96d4151a647d",
   "metadata": {},
   "outputs": [
    {
     "name": "stdout",
     "output_type": "stream",
     "text": [
      "f_convert_f('9.6523')->9.6523\n",
      "f_convert_f('Something for nothing.')->None\n",
      "f_convert_f(9562,87546,85236,94123987)->None\n"
     ]
    }
   ],
   "source": [
    "def f_convert_f(x):\n",
    "    try:\n",
    "        return float(x)\n",
    "    except (ValueError,TypeError) as e:\n",
    "        pass\n",
    "print(\"f_convert_f('9.6523')->{}\".format(f_convert_f('9.6523')))\n",
    "print(\"f_convert_f('Something for nothing.')->{}\".format(f_convert_f('Something for nothing.')))\n",
    "print(\"f_convert_f(9562,87546,85236,94123987)->{}\".format(f_convert_f((9562,87546,85236,94123987))))"
   ]
  },
  {
   "cell_type": "code",
   "execution_count": 96,
   "id": "08de1ddd-c52d-4657-8471-6300db9e82d1",
   "metadata": {},
   "outputs": [
    {
     "name": "stdout",
     "output_type": "stream",
     "text": [
      "Unable to open ./data/tryException.txt :[Errno 2] No such file or directory: './data/tryException.txt'\n",
      "\n",
      "tryException_content->None\n",
      "Unable to open ./data/tryException_.txt :[Errno 2] No such file or directory: './data/tryException_.txt'\n",
      "\n"
     ]
    }
   ],
   "source": [
    "def f_open_a(fp):\n",
    "    try:\n",
    "        f=open(fp,'r')\n",
    "    except IOError as e:\n",
    "        print('Unable to open',fp,':%s\\n' %e)\n",
    "    else:\n",
    "        data=f.read()\n",
    "        f.close\n",
    "        return data\n",
    "tryException_content=f_open_a(\"./data/tryException.txt\")   \n",
    "print(\"tryException_content->{}\".format(tryException_content))\n",
    "f_open_a(\"./data/tryException_.txt\")"
   ]
  },
  {
   "cell_type": "code",
   "execution_count": 98,
   "id": "d7228620-3a7a-4ca7-82de-71b868dfbc3e",
   "metadata": {},
   "outputs": [
    {
     "name": "stdout",
     "output_type": "stream",
     "text": [
      "Unable to open ./data/tryException.txt :[Errno 2] No such file or directory: './data/tryException.txt'\n",
      "\n",
      "done!\n"
     ]
    }
   ],
   "source": [
    "def f_open_b(fp):\n",
    "    try:\n",
    "        f=open(fp,'r')\n",
    "    except IOError as e:\n",
    "        print('Unable to open',fp,':%s\\n' %e)\n",
    "    else:\n",
    "        data=f.read()\n",
    "        f.close()\n",
    "        return data\n",
    "    finally:\n",
    "        print('done!')\n",
    "f_open_b(\"./data/tryException.txt\")"
   ]
  },
  {
   "cell_type": "code",
   "execution_count": 99,
   "id": "ae678342-5ef3-4a35-a873-c2dbf754042e",
   "metadata": {},
   "outputs": [
    {
     "ename": "Exception",
     "evalue": "",
     "output_type": "error",
     "traceback": [
      "\u001b[1;31m---------------------------------------------------------------------------\u001b[0m",
      "\u001b[1;31mException\u001b[0m                                 Traceback (most recent call last)",
      "\u001b[1;32m<ipython-input-99-ee49337a58c8>\u001b[0m in \u001b[0;36m<module>\u001b[1;34m\u001b[0m\n\u001b[1;32m----> 1\u001b[1;33m \u001b[1;32mraise\u001b[0m \u001b[0mException\u001b[0m \u001b[1;31m#没有任何有关错误信息的普通异常\u001b[0m\u001b[1;33m\u001b[0m\u001b[1;33m\u001b[0m\u001b[0m\n\u001b[0m",
      "\u001b[1;31mException\u001b[0m: "
     ]
    }
   ],
   "source": [
    "raise Exception #没有任何有关错误信息的普通异常"
   ]
  },
  {
   "cell_type": "code",
   "execution_count": 100,
   "id": "f985d707-c897-407d-94cd-6fd6e39dff36",
   "metadata": {},
   "outputs": [
    {
     "ename": "Exception",
     "evalue": "Computer says no!",
     "output_type": "error",
     "traceback": [
      "\u001b[1;31m---------------------------------------------------------------------------\u001b[0m",
      "\u001b[1;31mException\u001b[0m                                 Traceback (most recent call last)",
      "\u001b[1;32m<ipython-input-100-9adaf43138bd>\u001b[0m in \u001b[0;36m<module>\u001b[1;34m\u001b[0m\n\u001b[1;32m----> 1\u001b[1;33m \u001b[1;32mraise\u001b[0m \u001b[0mException\u001b[0m\u001b[1;33m(\u001b[0m\u001b[1;34m'Computer says no!'\u001b[0m\u001b[1;33m)\u001b[0m \u001b[1;31m#添加错误信息的异常\u001b[0m\u001b[1;33m\u001b[0m\u001b[1;33m\u001b[0m\u001b[0m\n\u001b[0m",
      "\u001b[1;31mException\u001b[0m: Computer says no!"
     ]
    }
   ],
   "source": [
    "raise Exception('Computer says no!') #添加错误信息的异常"
   ]
  },
  {
   "cell_type": "code",
   "execution_count": 101,
   "id": "f47d9082-5b79-4e6f-8229-a82f2dc03822",
   "metadata": {},
   "outputs": [
    {
     "ename": "some_custom_exception",
     "evalue": "",
     "output_type": "error",
     "traceback": [
      "\u001b[1;31m---------------------------------------------------------------------------\u001b[0m",
      "\u001b[1;31msome_custom_exception\u001b[0m                     Traceback (most recent call last)",
      "\u001b[1;32m<ipython-input-101-dd2d27a8cc29>\u001b[0m in \u001b[0;36m<module>\u001b[1;34m\u001b[0m\n\u001b[0;32m      1\u001b[0m \u001b[1;32mclass\u001b[0m \u001b[0msome_custom_exception\u001b[0m\u001b[1;33m(\u001b[0m\u001b[0mException\u001b[0m\u001b[1;33m)\u001b[0m\u001b[1;33m:\u001b[0m\u001b[1;32mpass\u001b[0m \u001b[1;31m#\u001b[0m\u001b[1;33m\u001b[0m\u001b[1;33m\u001b[0m\u001b[0m\n\u001b[1;32m----> 2\u001b[1;33m \u001b[1;32mraise\u001b[0m \u001b[0msome_custom_exception\u001b[0m\u001b[1;33m\u001b[0m\u001b[1;33m\u001b[0m\u001b[0m\n\u001b[0m",
      "\u001b[1;31msome_custom_exception\u001b[0m: "
     ]
    }
   ],
   "source": [
    "class some_custom_exception(Exception):pass #\n",
    "raise some_custom_exception"
   ]
  },
  {
   "cell_type": "code",
   "execution_count": 106,
   "id": "e499e422-3160-43e7-9477-ef1f0317eabc",
   "metadata": {},
   "outputs": [
    {
     "ename": "AssertionError",
     "evalue": "",
     "output_type": "error",
     "traceback": [
      "\u001b[1;31m---------------------------------------------------------------------------\u001b[0m",
      "\u001b[1;31mAssertionError\u001b[0m                            Traceback (most recent call last)",
      "\u001b[1;32m<ipython-input-106-bfd0de5ff4f2>\u001b[0m in \u001b[0;36m<module>\u001b[1;34m\u001b[0m\n\u001b[0;32m      1\u001b[0m \u001b[0mx\u001b[0m\u001b[1;33m=\u001b[0m\u001b[1;33m-\u001b[0m\u001b[0mpi\u001b[0m\u001b[1;33m\u001b[0m\u001b[1;33m\u001b[0m\u001b[0m\n\u001b[0;32m      2\u001b[0m \u001b[0my\u001b[0m\u001b[1;33m=\u001b[0m\u001b[0mpi\u001b[0m\u001b[1;33m\u001b[0m\u001b[1;33m\u001b[0m\u001b[0m\n\u001b[1;32m----> 3\u001b[1;33m \u001b[1;32massert\u001b[0m \u001b[0mx\u001b[0m\u001b[1;33m>\u001b[0m\u001b[1;36m0\u001b[0m \u001b[1;31m#为真则不做任何事情\u001b[0m\u001b[1;33m\u001b[0m\u001b[1;33m\u001b[0m\u001b[0m\n\u001b[0m",
      "\u001b[1;31mAssertionError\u001b[0m: "
     ]
    }
   ],
   "source": [
    "x=-pi\n",
    "assert x>0 #为真则不做任何事情"
   ]
  },
  {
   "cell_type": "code",
   "execution_count": 107,
   "id": "7a24dbcb-91c1-491b-96b8-5d11ead1f20f",
   "metadata": {},
   "outputs": [],
   "source": [
    "y=pi\n",
    "assert y>0 #为真则不做任何事情"
   ]
  },
  {
   "cell_type": "code",
   "execution_count": 109,
   "id": "7fb9ff43-746a-467f-ba40-a535ab741e79",
   "metadata": {},
   "outputs": [
    {
     "ename": "AssertionError",
     "evalue": "",
     "output_type": "error",
     "traceback": [
      "\u001b[1;31m---------------------------------------------------------------------------\u001b[0m",
      "\u001b[1;31mAssertionError\u001b[0m                            Traceback (most recent call last)",
      "\u001b[1;32m<ipython-input-109-60c30f868e86>\u001b[0m in \u001b[0;36m<module>\u001b[1;34m\u001b[0m\n\u001b[1;32m----> 1\u001b[1;33m \u001b[1;32massert\u001b[0m \u001b[0my\u001b[0m\u001b[1;33m<\u001b[0m\u001b[1;36m0\u001b[0m \u001b[1;31m#为假则引发AssertionError异常\u001b[0m\u001b[1;33m\u001b[0m\u001b[1;33m\u001b[0m\u001b[0m\n\u001b[0m",
      "\u001b[1;31mAssertionError\u001b[0m: "
     ]
    }
   ],
   "source": [
    "assert y<0 #为假则引发AssertionError异常"
   ]
  }
 ],
 "metadata": {
  "kernelspec": {
   "display_name": "Python 3",
   "language": "python",
   "name": "python3"
  },
  "language_info": {
   "codemirror_mode": {
    "name": "ipython",
    "version": 3
   },
   "file_extension": ".py",
   "mimetype": "text/x-python",
   "name": "python",
   "nbconvert_exporter": "python",
   "pygments_lexer": "ipython3",
   "version": "3.8.8"
  }
 },
 "nbformat": 4,
 "nbformat_minor": 5
}
